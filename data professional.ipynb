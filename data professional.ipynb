{
 "cells": [
  {
   "cell_type": "markdown",
   "metadata": {},
   "source": [
    "# DATA SCIENCE FIELD SALARY CATEGORIZATION\n"
   ]
  },
  {
   "cell_type": "markdown",
   "metadata": {},
   "source": [
    "\n",
    "# KEHINDE CHRISTOPHER AFOLABI"
   ]
  },
  {
   "cell_type": "markdown",
   "metadata": {},
   "source": [
    "## OBJECTIVE\n",
    "Being contacted by an entrepreneur who is interested in establishing an Ed_tech company that trains data professionals on a train-now-pay-later scheme, my objective is to carry out a descriptive analysis on a data set of over 600 data professionals across different designation, experience, country, company size and work model to the end that we can give a logical conclusion on what factors if combined will give more profit to the company. In my recommendation, I will advise the new company on what to focus on and what should be their target in order to ensure they are training data professionals who are in demand and who will be well paid such that they will be able to pay back their training fee as fast as possible.\n"
   ]
  },
  {
   "cell_type": "markdown",
   "metadata": {},
   "source": [
    "## RESEARCH QUESTIONS\n",
    "* 1.\tWhich Designation earns the most salary\n",
    "\n",
    "* 2.\tIdentify the highest employing country, \n",
    "\n",
    "* 3.    Identify the highest employed designation \n",
    "\n",
    "* 4.    Identify the most involved countries\n",
    "\n",
    "* 5.\tWhat is the effect of work model on pay\n",
    "\n",
    "* 6.\tDoes the size of company affect the pay? If yes, what company size pays the most\n",
    "\n",
    "* 7.    What kind of employement status pay most for individual across different level of experience\n"
   ]
  },
  {
   "cell_type": "markdown",
   "metadata": {},
   "source": [
    "## Importing useful libraries"
   ]
  },
  {
   "cell_type": "code",
   "execution_count": 1,
   "metadata": {},
   "outputs": [],
   "source": [
    "import pandas as pd\n",
    "import seaborn as sns\n",
    "import matplotlib.pyplot as plt"
   ]
  },
  {
   "cell_type": "code",
   "execution_count": 2,
   "metadata": {},
   "outputs": [
    {
     "data": {
      "text/html": [
       "<div>\n",
       "<style scoped>\n",
       "    .dataframe tbody tr th:only-of-type {\n",
       "        vertical-align: middle;\n",
       "    }\n",
       "\n",
       "    .dataframe tbody tr th {\n",
       "        vertical-align: top;\n",
       "    }\n",
       "\n",
       "    .dataframe thead th {\n",
       "        text-align: right;\n",
       "    }\n",
       "</style>\n",
       "<table border=\"1\" class=\"dataframe\">\n",
       "  <thead>\n",
       "    <tr style=\"text-align: right;\">\n",
       "      <th></th>\n",
       "      <th>Unnamed: 0</th>\n",
       "      <th>Working_Year</th>\n",
       "      <th>Designation</th>\n",
       "      <th>Experience</th>\n",
       "      <th>Employment_Status</th>\n",
       "      <th>Salary_In_Rupees</th>\n",
       "      <th>Employee_Location</th>\n",
       "      <th>Company_Location</th>\n",
       "      <th>Company_Size</th>\n",
       "      <th>Remote_Working_Ratio</th>\n",
       "    </tr>\n",
       "  </thead>\n",
       "  <tbody>\n",
       "    <tr>\n",
       "      <th>0</th>\n",
       "      <td>1</td>\n",
       "      <td>2020</td>\n",
       "      <td>Data Scientist</td>\n",
       "      <td>MI</td>\n",
       "      <td>FT</td>\n",
       "      <td>6,352,272.00</td>\n",
       "      <td>DE</td>\n",
       "      <td>DE</td>\n",
       "      <td>L</td>\n",
       "      <td>0</td>\n",
       "    </tr>\n",
       "    <tr>\n",
       "      <th>1</th>\n",
       "      <td>2</td>\n",
       "      <td>2020</td>\n",
       "      <td>Machine Learning Scientist</td>\n",
       "      <td>SE</td>\n",
       "      <td>FT</td>\n",
       "      <td>20,688,070.00</td>\n",
       "      <td>JP</td>\n",
       "      <td>JP</td>\n",
       "      <td>S</td>\n",
       "      <td>0</td>\n",
       "    </tr>\n",
       "    <tr>\n",
       "      <th>2</th>\n",
       "      <td>3</td>\n",
       "      <td>2020</td>\n",
       "      <td>Big Data Engineer</td>\n",
       "      <td>SE</td>\n",
       "      <td>FT</td>\n",
       "      <td>8,674,985.00</td>\n",
       "      <td>GB</td>\n",
       "      <td>GB</td>\n",
       "      <td>M</td>\n",
       "      <td>50</td>\n",
       "    </tr>\n",
       "    <tr>\n",
       "      <th>3</th>\n",
       "      <td>4</td>\n",
       "      <td>2020</td>\n",
       "      <td>Product Data Analyst</td>\n",
       "      <td>MI</td>\n",
       "      <td>FT</td>\n",
       "      <td>1,591,390.00</td>\n",
       "      <td>HN</td>\n",
       "      <td>HN</td>\n",
       "      <td>S</td>\n",
       "      <td>0</td>\n",
       "    </tr>\n",
       "    <tr>\n",
       "      <th>4</th>\n",
       "      <td>5</td>\n",
       "      <td>2020</td>\n",
       "      <td>Machine Learning Engineer</td>\n",
       "      <td>SE</td>\n",
       "      <td>FT</td>\n",
       "      <td>11,935,425.00</td>\n",
       "      <td>US</td>\n",
       "      <td>US</td>\n",
       "      <td>L</td>\n",
       "      <td>50</td>\n",
       "    </tr>\n",
       "    <tr>\n",
       "      <th>5</th>\n",
       "      <td>6</td>\n",
       "      <td>2020</td>\n",
       "      <td>Data Analyst</td>\n",
       "      <td>EN</td>\n",
       "      <td>FT</td>\n",
       "      <td>5,729,004.00</td>\n",
       "      <td>US</td>\n",
       "      <td>US</td>\n",
       "      <td>L</td>\n",
       "      <td>100</td>\n",
       "    </tr>\n",
       "    <tr>\n",
       "      <th>6</th>\n",
       "      <td>7</td>\n",
       "      <td>2020</td>\n",
       "      <td>Lead Data Scientist</td>\n",
       "      <td>SE</td>\n",
       "      <td>FT</td>\n",
       "      <td>15,118,205.00</td>\n",
       "      <td>US</td>\n",
       "      <td>US</td>\n",
       "      <td>S</td>\n",
       "      <td>100</td>\n",
       "    </tr>\n",
       "    <tr>\n",
       "      <th>7</th>\n",
       "      <td>8</td>\n",
       "      <td>2020</td>\n",
       "      <td>Data Scientist</td>\n",
       "      <td>MI</td>\n",
       "      <td>FT</td>\n",
       "      <td>2,843,416.00</td>\n",
       "      <td>HU</td>\n",
       "      <td>HU</td>\n",
       "      <td>L</td>\n",
       "      <td>50</td>\n",
       "    </tr>\n",
       "    <tr>\n",
       "      <th>8</th>\n",
       "      <td>9</td>\n",
       "      <td>2020</td>\n",
       "      <td>Business Data Analyst</td>\n",
       "      <td>MI</td>\n",
       "      <td>FT</td>\n",
       "      <td>10,741,883.00</td>\n",
       "      <td>US</td>\n",
       "      <td>US</td>\n",
       "      <td>L</td>\n",
       "      <td>100</td>\n",
       "    </tr>\n",
       "    <tr>\n",
       "      <th>9</th>\n",
       "      <td>10</td>\n",
       "      <td>2020</td>\n",
       "      <td>Lead Data Engineer</td>\n",
       "      <td>SE</td>\n",
       "      <td>FT</td>\n",
       "      <td>9,946,188.00</td>\n",
       "      <td>NZ</td>\n",
       "      <td>NZ</td>\n",
       "      <td>S</td>\n",
       "      <td>50</td>\n",
       "    </tr>\n",
       "  </tbody>\n",
       "</table>\n",
       "</div>"
      ],
      "text/plain": [
       "   Unnamed: 0  Working_Year                 Designation Experience  \\\n",
       "0           1          2020              Data Scientist         MI   \n",
       "1           2          2020  Machine Learning Scientist         SE   \n",
       "2           3          2020           Big Data Engineer         SE   \n",
       "3           4          2020        Product Data Analyst         MI   \n",
       "4           5          2020   Machine Learning Engineer         SE   \n",
       "5           6          2020                Data Analyst         EN   \n",
       "6           7          2020         Lead Data Scientist         SE   \n",
       "7           8          2020              Data Scientist         MI   \n",
       "8           9          2020       Business Data Analyst         MI   \n",
       "9          10          2020          Lead Data Engineer         SE   \n",
       "\n",
       "  Employment_Status Salary_In_Rupees Employee_Location Company_Location  \\\n",
       "0                FT     6,352,272.00                DE               DE   \n",
       "1                FT    20,688,070.00                JP               JP   \n",
       "2                FT     8,674,985.00                GB               GB   \n",
       "3                FT     1,591,390.00                HN               HN   \n",
       "4                FT    11,935,425.00                US               US   \n",
       "5                FT     5,729,004.00                US               US   \n",
       "6                FT    15,118,205.00                US               US   \n",
       "7                FT     2,843,416.00                HU               HU   \n",
       "8                FT    10,741,883.00                US               US   \n",
       "9                FT     9,946,188.00                NZ               NZ   \n",
       "\n",
       "  Company_Size  Remote_Working_Ratio  \n",
       "0            L                     0  \n",
       "1            S                     0  \n",
       "2            M                    50  \n",
       "3            S                     0  \n",
       "4            L                    50  \n",
       "5            L                   100  \n",
       "6            S                   100  \n",
       "7            L                    50  \n",
       "8            L                   100  \n",
       "9            S                    50  "
      ]
     },
     "execution_count": 2,
     "metadata": {},
     "output_type": "execute_result"
    }
   ],
   "source": [
    "data = pd.read_csv('Data_Science_Fields_Salary_Categorization.csv')\n",
    "data.head(10)"
   ]
  },
  {
   "cell_type": "code",
   "execution_count": 3,
   "metadata": {},
   "outputs": [
    {
     "name": "stdout",
     "output_type": "stream",
     "text": [
      "<class 'pandas.core.frame.DataFrame'>\n",
      "RangeIndex: 607 entries, 0 to 606\n",
      "Data columns (total 10 columns):\n",
      " #   Column                Non-Null Count  Dtype \n",
      "---  ------                --------------  ----- \n",
      " 0   Unnamed: 0            607 non-null    int64 \n",
      " 1   Working_Year          607 non-null    int64 \n",
      " 2   Designation           607 non-null    object\n",
      " 3   Experience            607 non-null    object\n",
      " 4   Employment_Status     607 non-null    object\n",
      " 5   Salary_In_Rupees      607 non-null    object\n",
      " 6   Employee_Location     607 non-null    object\n",
      " 7   Company_Location      607 non-null    object\n",
      " 8   Company_Size          607 non-null    object\n",
      " 9   Remote_Working_Ratio  607 non-null    int64 \n",
      "dtypes: int64(3), object(7)\n",
      "memory usage: 47.5+ KB\n"
     ]
    }
   ],
   "source": [
    "data.info()"
   ]
  },
  {
   "cell_type": "markdown",
   "metadata": {},
   "source": [
    "## Data Cleaning"
   ]
  },
  {
   "cell_type": "markdown",
   "metadata": {},
   "source": [
    "* Check duplicates and drop\n",
    "* Salary_In_Rupees dytpe is an object, hence it needs to be changed to float so we can calculate  with it\n",
    "* Drop the 'unnamed: 0' column because it is not useful for this analysis\n",
    "* Change abbreviations to fullname for easy comprehension (experience,employment_ status,company_size,remote_working_ratio and Company_Location\n"
   ]
  },
  {
   "cell_type": "markdown",
   "metadata": {},
   "source": [
    "### 1. Check duplicates and drop"
   ]
  },
  {
   "cell_type": "code",
   "execution_count": 4,
   "metadata": {},
   "outputs": [
    {
     "data": {
      "text/plain": [
       "False    607\n",
       "dtype: int64"
      ]
     },
     "execution_count": 4,
     "metadata": {},
     "output_type": "execute_result"
    }
   ],
   "source": [
    "data.duplicated().value_counts()"
   ]
  },
  {
   "cell_type": "markdown",
   "metadata": {},
   "source": [
    "#### No duplicates found in the data"
   ]
  },
  {
   "cell_type": "markdown",
   "metadata": {},
   "source": [
    "### 2.Salary_In_Rupees dytpe is an object, hence it needs to be changed to float so we can calculate with it"
   ]
  },
  {
   "cell_type": "code",
   "execution_count": 5,
   "metadata": {},
   "outputs": [],
   "source": [
    "data['Salary_In_Rupees']= data.Salary_In_Rupees.replace(',','', regex= True).astype(float)"
   ]
  },
  {
   "cell_type": "code",
   "execution_count": 6,
   "metadata": {},
   "outputs": [
    {
     "data": {
      "text/plain": [
       "Unnamed: 0                int64\n",
       "Working_Year              int64\n",
       "Designation              object\n",
       "Experience               object\n",
       "Employment_Status        object\n",
       "Salary_In_Rupees        float64\n",
       "Employee_Location        object\n",
       "Company_Location         object\n",
       "Company_Size             object\n",
       "Remote_Working_Ratio      int64\n",
       "dtype: object"
      ]
     },
     "execution_count": 6,
     "metadata": {},
     "output_type": "execute_result"
    }
   ],
   "source": [
    "data.dtypes"
   ]
  },
  {
   "cell_type": "markdown",
   "metadata": {},
   "source": [
    "### 3. Drop the 'unnamed: 0' column because it is not useful for this analysis"
   ]
  },
  {
   "cell_type": "code",
   "execution_count": 7,
   "metadata": {},
   "outputs": [],
   "source": [
    "data.drop(columns=['Unnamed: 0'],inplace=True)"
   ]
  },
  {
   "cell_type": "code",
   "execution_count": 8,
   "metadata": {},
   "outputs": [
    {
     "data": {
      "text/html": [
       "<div>\n",
       "<style scoped>\n",
       "    .dataframe tbody tr th:only-of-type {\n",
       "        vertical-align: middle;\n",
       "    }\n",
       "\n",
       "    .dataframe tbody tr th {\n",
       "        vertical-align: top;\n",
       "    }\n",
       "\n",
       "    .dataframe thead th {\n",
       "        text-align: right;\n",
       "    }\n",
       "</style>\n",
       "<table border=\"1\" class=\"dataframe\">\n",
       "  <thead>\n",
       "    <tr style=\"text-align: right;\">\n",
       "      <th></th>\n",
       "      <th>Working_Year</th>\n",
       "      <th>Designation</th>\n",
       "      <th>Experience</th>\n",
       "      <th>Employment_Status</th>\n",
       "      <th>Salary_In_Rupees</th>\n",
       "      <th>Employee_Location</th>\n",
       "      <th>Company_Location</th>\n",
       "      <th>Company_Size</th>\n",
       "      <th>Remote_Working_Ratio</th>\n",
       "    </tr>\n",
       "  </thead>\n",
       "  <tbody>\n",
       "    <tr>\n",
       "      <th>0</th>\n",
       "      <td>2020</td>\n",
       "      <td>Data Scientist</td>\n",
       "      <td>MI</td>\n",
       "      <td>FT</td>\n",
       "      <td>6352272.0</td>\n",
       "      <td>DE</td>\n",
       "      <td>DE</td>\n",
       "      <td>L</td>\n",
       "      <td>0</td>\n",
       "    </tr>\n",
       "    <tr>\n",
       "      <th>1</th>\n",
       "      <td>2020</td>\n",
       "      <td>Machine Learning Scientist</td>\n",
       "      <td>SE</td>\n",
       "      <td>FT</td>\n",
       "      <td>20688070.0</td>\n",
       "      <td>JP</td>\n",
       "      <td>JP</td>\n",
       "      <td>S</td>\n",
       "      <td>0</td>\n",
       "    </tr>\n",
       "    <tr>\n",
       "      <th>2</th>\n",
       "      <td>2020</td>\n",
       "      <td>Big Data Engineer</td>\n",
       "      <td>SE</td>\n",
       "      <td>FT</td>\n",
       "      <td>8674985.0</td>\n",
       "      <td>GB</td>\n",
       "      <td>GB</td>\n",
       "      <td>M</td>\n",
       "      <td>50</td>\n",
       "    </tr>\n",
       "    <tr>\n",
       "      <th>3</th>\n",
       "      <td>2020</td>\n",
       "      <td>Product Data Analyst</td>\n",
       "      <td>MI</td>\n",
       "      <td>FT</td>\n",
       "      <td>1591390.0</td>\n",
       "      <td>HN</td>\n",
       "      <td>HN</td>\n",
       "      <td>S</td>\n",
       "      <td>0</td>\n",
       "    </tr>\n",
       "    <tr>\n",
       "      <th>4</th>\n",
       "      <td>2020</td>\n",
       "      <td>Machine Learning Engineer</td>\n",
       "      <td>SE</td>\n",
       "      <td>FT</td>\n",
       "      <td>11935425.0</td>\n",
       "      <td>US</td>\n",
       "      <td>US</td>\n",
       "      <td>L</td>\n",
       "      <td>50</td>\n",
       "    </tr>\n",
       "    <tr>\n",
       "      <th>5</th>\n",
       "      <td>2020</td>\n",
       "      <td>Data Analyst</td>\n",
       "      <td>EN</td>\n",
       "      <td>FT</td>\n",
       "      <td>5729004.0</td>\n",
       "      <td>US</td>\n",
       "      <td>US</td>\n",
       "      <td>L</td>\n",
       "      <td>100</td>\n",
       "    </tr>\n",
       "    <tr>\n",
       "      <th>6</th>\n",
       "      <td>2020</td>\n",
       "      <td>Lead Data Scientist</td>\n",
       "      <td>SE</td>\n",
       "      <td>FT</td>\n",
       "      <td>15118205.0</td>\n",
       "      <td>US</td>\n",
       "      <td>US</td>\n",
       "      <td>S</td>\n",
       "      <td>100</td>\n",
       "    </tr>\n",
       "    <tr>\n",
       "      <th>7</th>\n",
       "      <td>2020</td>\n",
       "      <td>Data Scientist</td>\n",
       "      <td>MI</td>\n",
       "      <td>FT</td>\n",
       "      <td>2843416.0</td>\n",
       "      <td>HU</td>\n",
       "      <td>HU</td>\n",
       "      <td>L</td>\n",
       "      <td>50</td>\n",
       "    </tr>\n",
       "    <tr>\n",
       "      <th>8</th>\n",
       "      <td>2020</td>\n",
       "      <td>Business Data Analyst</td>\n",
       "      <td>MI</td>\n",
       "      <td>FT</td>\n",
       "      <td>10741883.0</td>\n",
       "      <td>US</td>\n",
       "      <td>US</td>\n",
       "      <td>L</td>\n",
       "      <td>100</td>\n",
       "    </tr>\n",
       "    <tr>\n",
       "      <th>9</th>\n",
       "      <td>2020</td>\n",
       "      <td>Lead Data Engineer</td>\n",
       "      <td>SE</td>\n",
       "      <td>FT</td>\n",
       "      <td>9946188.0</td>\n",
       "      <td>NZ</td>\n",
       "      <td>NZ</td>\n",
       "      <td>S</td>\n",
       "      <td>50</td>\n",
       "    </tr>\n",
       "  </tbody>\n",
       "</table>\n",
       "</div>"
      ],
      "text/plain": [
       "   Working_Year                 Designation Experience Employment_Status  \\\n",
       "0          2020              Data Scientist         MI                FT   \n",
       "1          2020  Machine Learning Scientist         SE                FT   \n",
       "2          2020           Big Data Engineer         SE                FT   \n",
       "3          2020        Product Data Analyst         MI                FT   \n",
       "4          2020   Machine Learning Engineer         SE                FT   \n",
       "5          2020                Data Analyst         EN                FT   \n",
       "6          2020         Lead Data Scientist         SE                FT   \n",
       "7          2020              Data Scientist         MI                FT   \n",
       "8          2020       Business Data Analyst         MI                FT   \n",
       "9          2020          Lead Data Engineer         SE                FT   \n",
       "\n",
       "   Salary_In_Rupees Employee_Location Company_Location Company_Size  \\\n",
       "0         6352272.0                DE               DE            L   \n",
       "1        20688070.0                JP               JP            S   \n",
       "2         8674985.0                GB               GB            M   \n",
       "3         1591390.0                HN               HN            S   \n",
       "4        11935425.0                US               US            L   \n",
       "5         5729004.0                US               US            L   \n",
       "6        15118205.0                US               US            S   \n",
       "7         2843416.0                HU               HU            L   \n",
       "8        10741883.0                US               US            L   \n",
       "9         9946188.0                NZ               NZ            S   \n",
       "\n",
       "   Remote_Working_Ratio  \n",
       "0                     0  \n",
       "1                     0  \n",
       "2                    50  \n",
       "3                     0  \n",
       "4                    50  \n",
       "5                   100  \n",
       "6                   100  \n",
       "7                    50  \n",
       "8                   100  \n",
       "9                    50  "
      ]
     },
     "execution_count": 8,
     "metadata": {},
     "output_type": "execute_result"
    }
   ],
   "source": [
    "data.head(10)"
   ]
  },
  {
   "cell_type": "markdown",
   "metadata": {},
   "source": [
    "### 4.Change Abbreviations; 'Employment_Status'"
   ]
  },
  {
   "cell_type": "code",
   "execution_count": 9,
   "metadata": {},
   "outputs": [
    {
     "data": {
      "text/plain": [
       "FT    588\n",
       "PT     10\n",
       "CT      5\n",
       "FL      4\n",
       "Name: Employment_Status, dtype: int64"
      ]
     },
     "execution_count": 9,
     "metadata": {},
     "output_type": "execute_result"
    }
   ],
   "source": [
    "data['Employment_Status'].value_counts()"
   ]
  },
  {
   "cell_type": "code",
   "execution_count": 10,
   "metadata": {},
   "outputs": [],
   "source": [
    "data['Employment_Status']= data.Employment_Status.replace('FT','Full_Time',regex=True).astype(str)\n",
    "data['Employment_Status']= data.Employment_Status.replace('PT','Part_Time',regex=True).astype(str)\n",
    "data['Employment_Status']= data.Employment_Status.replace('CT','Contract',regex=True).astype(str)\n",
    "data['Employment_Status']= data.Employment_Status.replace('FL','Freelance',regex=True).astype(str)"
   ]
  },
  {
   "cell_type": "code",
   "execution_count": 11,
   "metadata": {},
   "outputs": [
    {
     "data": {
      "text/plain": [
       "Full_Time    588\n",
       "Part_Time     10\n",
       "Contract       5\n",
       "Freelance      4\n",
       "Name: Employment_Status, dtype: int64"
      ]
     },
     "execution_count": 11,
     "metadata": {},
     "output_type": "execute_result"
    }
   ],
   "source": [
    "data['Employment_Status'].value_counts()"
   ]
  },
  {
   "cell_type": "markdown",
   "metadata": {},
   "source": [
    "### 5..Change Abbreviations; 'Experience'"
   ]
  },
  {
   "cell_type": "code",
   "execution_count": 12,
   "metadata": {},
   "outputs": [
    {
     "data": {
      "text/plain": [
       "SE    280\n",
       "MI    213\n",
       "EN     88\n",
       "EX     26\n",
       "Name: Experience, dtype: int64"
      ]
     },
     "execution_count": 12,
     "metadata": {},
     "output_type": "execute_result"
    }
   ],
   "source": [
    "data['Experience'].value_counts()"
   ]
  },
  {
   "cell_type": "code",
   "execution_count": 13,
   "metadata": {},
   "outputs": [],
   "source": [
    "data['Experience']= data.Experience.replace('MI','Mid-Level',regex=True).astype(str)\n",
    "data['Experience']= data.Experience.replace('SE','Senior-Level',regex=True).astype(str)\n",
    "data['Experience']= data.Experience.replace('EN','Entry-Level',regex=True).astype(str)\n",
    "data['Experience']= data.Experience.replace('EX','Expert-Level',regex=True).astype(str)"
   ]
  },
  {
   "cell_type": "code",
   "execution_count": 14,
   "metadata": {},
   "outputs": [
    {
     "data": {
      "text/plain": [
       "Senior-Level    280\n",
       "Mid-Level       213\n",
       "Entry-Level      88\n",
       "Expert-Level     26\n",
       "Name: Experience, dtype: int64"
      ]
     },
     "execution_count": 14,
     "metadata": {},
     "output_type": "execute_result"
    }
   ],
   "source": [
    "data['Experience'].value_counts()"
   ]
  },
  {
   "cell_type": "markdown",
   "metadata": {},
   "source": [
    "### 6.Change Abbreviations; 'Company_Size'"
   ]
  },
  {
   "cell_type": "code",
   "execution_count": 15,
   "metadata": {},
   "outputs": [
    {
     "data": {
      "text/plain": [
       "M    326\n",
       "L    198\n",
       "S     83\n",
       "Name: Company_Size, dtype: int64"
      ]
     },
     "execution_count": 15,
     "metadata": {},
     "output_type": "execute_result"
    }
   ],
   "source": [
    "data['Company_Size'].value_counts()"
   ]
  },
  {
   "cell_type": "code",
   "execution_count": 16,
   "metadata": {},
   "outputs": [],
   "source": [
    "data['Company_Size']= data.Company_Size.replace('L','Large',regex=True).astype(str)\n",
    "data['Company_Size']= data.Company_Size.replace('S','Small',regex=True).astype(str)\n",
    "data['Company_Size']= data.Company_Size.replace('M','Medium',regex=True).astype(str)"
   ]
  },
  {
   "cell_type": "markdown",
   "metadata": {},
   "source": [
    "### 7.Change Abbreviations; 'Remote_Working_Ratio'"
   ]
  },
  {
   "cell_type": "code",
   "execution_count": 17,
   "metadata": {},
   "outputs": [
    {
     "data": {
      "text/plain": [
       "100    381\n",
       "0      127\n",
       "50      99\n",
       "Name: Remote_Working_Ratio, dtype: int64"
      ]
     },
     "execution_count": 17,
     "metadata": {},
     "output_type": "execute_result"
    }
   ],
   "source": [
    "data['Remote_Working_Ratio'].value_counts()"
   ]
  },
  {
   "cell_type": "code",
   "execution_count": 18,
   "metadata": {},
   "outputs": [],
   "source": [
    "data['Remote_Working_Ratio']= data.Remote_Working_Ratio.replace(100,'Remote',regex=True).astype(str)\n",
    "data['Remote_Working_Ratio']= data.Remote_Working_Ratio.replace('50','Hybrid',regex=True).astype(str)\n",
    "data['Remote_Working_Ratio']= data.Remote_Working_Ratio.replace('0','On-site',regex=True).astype(str)"
   ]
  },
  {
   "cell_type": "markdown",
   "metadata": {},
   "source": [
    "## 8.Change Abbreviations; 'Company_Location'"
   ]
  },
  {
   "cell_type": "code",
   "execution_count": 19,
   "metadata": {},
   "outputs": [
    {
     "data": {
      "text/plain": [
       "array(['DE', 'JP', 'GB', 'HN', 'US', 'HU', 'NZ', 'FR', 'IN', 'PK', 'CN',\n",
       "       'GR', 'AE', 'NL', 'MX', 'CA', 'AT', 'NG', 'ES', 'PT', 'DK', 'IT',\n",
       "       'HR', 'LU', 'PL', 'SG', 'RO', 'IQ', 'BR', 'BE', 'UA', 'IL', 'RU',\n",
       "       'MT', 'CL', 'IR', 'CO', 'MD', 'KE', 'SI', 'CH', 'VN', 'AS', 'TR',\n",
       "       'CZ', 'DZ', 'EE', 'MY', 'AU', 'IE'], dtype=object)"
      ]
     },
     "execution_count": 19,
     "metadata": {},
     "output_type": "execute_result"
    }
   ],
   "source": [
    "# getting all the unique values\n",
    "data['Company_Location'].unique()"
   ]
  },
  {
   "cell_type": "code",
   "execution_count": 20,
   "metadata": {},
   "outputs": [],
   "source": [
    "# changing the abbrevaiations to full meaning\n",
    "data['Company_Location']= data.Company_Location.replace({'DE','JP','GB','HN','US','HU','NZ','FR','IN', 'PK', 'CN','GR', 'AE', 'NL', 'MX', 'CA', 'AT', 'NG', 'ES', 'PT', 'DK', 'IT','HR', 'LU', 'PL', 'SG', 'RO', 'IQ', 'BR', 'BE', 'UA', 'IL', 'RU','MT', 'CL', 'IR', 'CO', 'MD', 'KE', 'SI', 'CH', 'VN', 'AS', 'TR','CZ', 'DZ', 'EE', 'MY', 'AU', 'IE'},{ 'Germany','Japan','United Kingdom','Honduras','United States','Hungary','New Zealand','France','India','Pakistan','China','Greece','United Arab Emirates','Netherlands','Mexico','Canada','Austria','Nigeria','Spain','Portugal','Denmark','Italy','Croatia','Luxembourg','Poland','Singapore','Romania','Iraq','Brazil','Belgium','Ukraine','Israel','Russia','Malta','Chile','Iran','Colombia','Moldova','Kenya','Slovenia','Switzerland','Vietnam','American Samoa','Turkey','Czech Republic','Algeria','Estonia','Malaysia','Australia','Ireland'},regex=True).astype(str)"
   ]
  },
  {
   "cell_type": "code",
   "execution_count": 21,
   "metadata": {},
   "outputs": [
    {
     "data": {
      "text/plain": [
       "array(['Luxembourg', 'Singapore', 'American Samoa', 'Iraq',\n",
       "       'Czech Republic', 'Vietnam', 'Brazil', 'Israel', 'Turkey',\n",
       "       'Ireland', 'Estonia', 'Italy', 'Pakistan', 'Belgium', 'Chile',\n",
       "       'Moldova', 'Poland', 'Algeria', 'India', 'Switzerland', 'Germany',\n",
       "       'Mexico', 'Malta', 'Croatia', 'France', 'Australia', 'Malaysia',\n",
       "       'Canada', 'Kenya', 'Austria', 'Iran', 'Colombia', 'United States',\n",
       "       'New Zealand', 'China', 'Nigeria', 'Greece', 'Romania', 'Russia',\n",
       "       'Hungary', 'Spain', 'Honduras', 'United Kingdom', 'Slovenia',\n",
       "       'Ukraine', 'Portugal', 'United Arab Emirates', 'Denmark', 'Japan',\n",
       "       'Netherlands'], dtype=object)"
      ]
     },
     "execution_count": 21,
     "metadata": {},
     "output_type": "execute_result"
    }
   ],
   "source": [
    "# getting the already changed values\n",
    "data['Company_Location'].unique()"
   ]
  },
  {
   "cell_type": "markdown",
   "metadata": {},
   "source": [
    "## Changing Employee_location abbreviations"
   ]
  },
  {
   "cell_type": "code",
   "execution_count": 23,
   "metadata": {},
   "outputs": [
    {
     "data": {
      "text/plain": [
       "array(['DE', 'JP', 'GB', 'HN', 'US', 'HU', 'NZ', 'FR', 'IN', 'PK', 'PL',\n",
       "       'PT', 'CN', 'GR', 'AE', 'NL', 'MX', 'CA', 'AT', 'NG', 'PH', 'ES',\n",
       "       'DK', 'RU', 'IT', 'HR', 'BG', 'SG', 'BR', 'IQ', 'VN', 'BE', 'UA',\n",
       "       'MT', 'CL', 'RO', 'IR', 'CO', 'MD', 'KE', 'SI', 'HK', 'TR', 'RS',\n",
       "       'PR', 'LU', 'JE', 'CZ', 'AR', 'DZ', 'TN', 'MY', 'EE', 'AU', 'BO',\n",
       "       'IE', 'CH'], dtype=object)"
      ]
     },
     "execution_count": 23,
     "metadata": {},
     "output_type": "execute_result"
    }
   ],
   "source": [
    "data['Employee_Location'].unique()"
   ]
  },
  {
   "cell_type": "code",
   "execution_count": 23,
   "metadata": {},
   "outputs": [],
   "source": [
    "# changing the abbrevaiations to full meaning\n",
    "data['Employee_Location']= data.Company_Location.replace({'DE','JP','GB','HN','US','HU','NZ','FR','IN', 'PK', 'CN','GR', 'AE', 'NL', 'MX', 'CA', 'AT', 'NG', 'ES', 'PT', 'DK', 'IT','HR', 'LU', 'PL', 'SG', 'RO', 'IQ', 'BR', 'BE', 'UA', 'IL', 'RU','MT', 'CL', 'IR', 'CO', 'MD', 'KE', 'SI', 'CH', 'VN', 'AS', 'TR','CZ', 'DZ', 'EE', 'MY', 'AU', 'IE'},{ 'Germany','Japan','United Kingdom','Honduras','United States','Hungary','New Zealand','France','India','Pakistan','China','Greece','United Arab Emirates','Netherlands','Mexico','Canada','Austria','Nigeria','Spain','Portugal','Denmark','Italy','Croatia','Luxembourg','Poland','Singapore','Romania','Iraq','Brazil','Belgium','Ukraine','Israel','Russia','Malta','Chile','Iran','Colombia','Moldova','Kenya','Slovenia','Switzerland','Vietnam','American Samoa','Turkey','Czech Republic','Algeria','Estonia','Malaysia','Australia','Ireland'},regex=True).astype(str)"
   ]
  },
  {
   "cell_type": "code",
   "execution_count": 24,
   "metadata": {},
   "outputs": [
    {
     "data": {
      "text/html": [
       "<div>\n",
       "<style scoped>\n",
       "    .dataframe tbody tr th:only-of-type {\n",
       "        vertical-align: middle;\n",
       "    }\n",
       "\n",
       "    .dataframe tbody tr th {\n",
       "        vertical-align: top;\n",
       "    }\n",
       "\n",
       "    .dataframe thead th {\n",
       "        text-align: right;\n",
       "    }\n",
       "</style>\n",
       "<table border=\"1\" class=\"dataframe\">\n",
       "  <thead>\n",
       "    <tr style=\"text-align: right;\">\n",
       "      <th></th>\n",
       "      <th>Working_Year</th>\n",
       "      <th>Designation</th>\n",
       "      <th>Experience</th>\n",
       "      <th>Employment_Status</th>\n",
       "      <th>Salary_In_Rupees</th>\n",
       "      <th>Employee_Location</th>\n",
       "      <th>Company_Location</th>\n",
       "      <th>Company_Size</th>\n",
       "      <th>Remote_Working_Ratio</th>\n",
       "    </tr>\n",
       "  </thead>\n",
       "  <tbody>\n",
       "    <tr>\n",
       "      <th>0</th>\n",
       "      <td>2020</td>\n",
       "      <td>Data Scientist</td>\n",
       "      <td>Mid-Level</td>\n",
       "      <td>Full_Time</td>\n",
       "      <td>6352272.0</td>\n",
       "      <td>United States</td>\n",
       "      <td>United States</td>\n",
       "      <td>Large</td>\n",
       "      <td>On-site</td>\n",
       "    </tr>\n",
       "    <tr>\n",
       "      <th>1</th>\n",
       "      <td>2020</td>\n",
       "      <td>Machine Learning Scientist</td>\n",
       "      <td>Senior-Level</td>\n",
       "      <td>Full_Time</td>\n",
       "      <td>20688070.0</td>\n",
       "      <td>Algeria</td>\n",
       "      <td>Algeria</td>\n",
       "      <td>Small</td>\n",
       "      <td>On-site</td>\n",
       "    </tr>\n",
       "    <tr>\n",
       "      <th>2</th>\n",
       "      <td>2020</td>\n",
       "      <td>Big Data Engineer</td>\n",
       "      <td>Senior-Level</td>\n",
       "      <td>Full_Time</td>\n",
       "      <td>8674985.0</td>\n",
       "      <td>Ukraine</td>\n",
       "      <td>Ukraine</td>\n",
       "      <td>Medium</td>\n",
       "      <td>Hybrid</td>\n",
       "    </tr>\n",
       "    <tr>\n",
       "      <th>3</th>\n",
       "      <td>2020</td>\n",
       "      <td>Product Data Analyst</td>\n",
       "      <td>Mid-Level</td>\n",
       "      <td>Full_Time</td>\n",
       "      <td>1591390.0</td>\n",
       "      <td>Canada</td>\n",
       "      <td>Canada</td>\n",
       "      <td>Small</td>\n",
       "      <td>On-site</td>\n",
       "    </tr>\n",
       "    <tr>\n",
       "      <th>4</th>\n",
       "      <td>2020</td>\n",
       "      <td>Machine Learning Engineer</td>\n",
       "      <td>Senior-Level</td>\n",
       "      <td>Full_Time</td>\n",
       "      <td>11935425.0</td>\n",
       "      <td>Malta</td>\n",
       "      <td>Malta</td>\n",
       "      <td>Large</td>\n",
       "      <td>Hybrid</td>\n",
       "    </tr>\n",
       "    <tr>\n",
       "      <th>...</th>\n",
       "      <td>...</td>\n",
       "      <td>...</td>\n",
       "      <td>...</td>\n",
       "      <td>...</td>\n",
       "      <td>...</td>\n",
       "      <td>...</td>\n",
       "      <td>...</td>\n",
       "      <td>...</td>\n",
       "      <td>...</td>\n",
       "    </tr>\n",
       "    <tr>\n",
       "      <th>602</th>\n",
       "      <td>2022</td>\n",
       "      <td>Data Engineer</td>\n",
       "      <td>Senior-Level</td>\n",
       "      <td>Full_Time</td>\n",
       "      <td>12253703.0</td>\n",
       "      <td>Malta</td>\n",
       "      <td>Malta</td>\n",
       "      <td>Medium</td>\n",
       "      <td>Remote</td>\n",
       "    </tr>\n",
       "    <tr>\n",
       "      <th>603</th>\n",
       "      <td>2022</td>\n",
       "      <td>Data Engineer</td>\n",
       "      <td>Senior-Level</td>\n",
       "      <td>Full_Time</td>\n",
       "      <td>10025757.0</td>\n",
       "      <td>Malta</td>\n",
       "      <td>Malta</td>\n",
       "      <td>Medium</td>\n",
       "      <td>Remote</td>\n",
       "    </tr>\n",
       "    <tr>\n",
       "      <th>604</th>\n",
       "      <td>2022</td>\n",
       "      <td>Data Analyst</td>\n",
       "      <td>Senior-Level</td>\n",
       "      <td>Full_Time</td>\n",
       "      <td>10264466.0</td>\n",
       "      <td>Malta</td>\n",
       "      <td>Malta</td>\n",
       "      <td>Medium</td>\n",
       "      <td>On-site</td>\n",
       "    </tr>\n",
       "    <tr>\n",
       "      <th>605</th>\n",
       "      <td>2022</td>\n",
       "      <td>Data Analyst</td>\n",
       "      <td>Senior-Level</td>\n",
       "      <td>Full_Time</td>\n",
       "      <td>11935425.0</td>\n",
       "      <td>Malta</td>\n",
       "      <td>Malta</td>\n",
       "      <td>Medium</td>\n",
       "      <td>Remote</td>\n",
       "    </tr>\n",
       "    <tr>\n",
       "      <th>606</th>\n",
       "      <td>2022</td>\n",
       "      <td>AI Scientist</td>\n",
       "      <td>Mid-Level</td>\n",
       "      <td>Full_Time</td>\n",
       "      <td>15913900.0</td>\n",
       "      <td>Malta</td>\n",
       "      <td>Malta</td>\n",
       "      <td>Large</td>\n",
       "      <td>Remote</td>\n",
       "    </tr>\n",
       "  </tbody>\n",
       "</table>\n",
       "<p>607 rows × 9 columns</p>\n",
       "</div>"
      ],
      "text/plain": [
       "     Working_Year                 Designation    Experience Employment_Status  \\\n",
       "0            2020              Data Scientist     Mid-Level         Full_Time   \n",
       "1            2020  Machine Learning Scientist  Senior-Level         Full_Time   \n",
       "2            2020           Big Data Engineer  Senior-Level         Full_Time   \n",
       "3            2020        Product Data Analyst     Mid-Level         Full_Time   \n",
       "4            2020   Machine Learning Engineer  Senior-Level         Full_Time   \n",
       "..            ...                         ...           ...               ...   \n",
       "602          2022               Data Engineer  Senior-Level         Full_Time   \n",
       "603          2022               Data Engineer  Senior-Level         Full_Time   \n",
       "604          2022                Data Analyst  Senior-Level         Full_Time   \n",
       "605          2022                Data Analyst  Senior-Level         Full_Time   \n",
       "606          2022                AI Scientist     Mid-Level         Full_Time   \n",
       "\n",
       "     Salary_In_Rupees Employee_Location Company_Location Company_Size  \\\n",
       "0           6352272.0     United States    United States        Large   \n",
       "1          20688070.0           Algeria          Algeria        Small   \n",
       "2           8674985.0           Ukraine          Ukraine       Medium   \n",
       "3           1591390.0            Canada           Canada        Small   \n",
       "4          11935425.0             Malta            Malta        Large   \n",
       "..                ...               ...              ...          ...   \n",
       "602        12253703.0             Malta            Malta       Medium   \n",
       "603        10025757.0             Malta            Malta       Medium   \n",
       "604        10264466.0             Malta            Malta       Medium   \n",
       "605        11935425.0             Malta            Malta       Medium   \n",
       "606        15913900.0             Malta            Malta        Large   \n",
       "\n",
       "    Remote_Working_Ratio  \n",
       "0                On-site  \n",
       "1                On-site  \n",
       "2                 Hybrid  \n",
       "3                On-site  \n",
       "4                 Hybrid  \n",
       "..                   ...  \n",
       "602               Remote  \n",
       "603               Remote  \n",
       "604              On-site  \n",
       "605               Remote  \n",
       "606               Remote  \n",
       "\n",
       "[607 rows x 9 columns]"
      ]
     },
     "execution_count": 24,
     "metadata": {},
     "output_type": "execute_result"
    }
   ],
   "source": [
    "# getting the already cleaned values\n",
    "data"
   ]
  },
  {
   "cell_type": "code",
   "execution_count": 25,
   "metadata": {
    "scrolled": false
   },
   "outputs": [
    {
     "data": {
      "text/plain": [
       "Data Scientist                              143\n",
       "Data Engineer                               132\n",
       "Data Analyst                                 97\n",
       "Machine Learning Engineer                    41\n",
       "Research Scientist                           16\n",
       "Data Science Manager                         12\n",
       "Data Architect                               11\n",
       "Machine Learning Scientist                    8\n",
       "Big Data Engineer                             8\n",
       "Principal Data Scientist                      7\n",
       "Data Analytics Manager                        7\n",
       "Data Science Consultant                       7\n",
       "AI Scientist                                  7\n",
       "Director of Data Science                      7\n",
       "Lead Data Engineer                            6\n",
       "Computer Vision Engineer                      6\n",
       "ML Engineer                                   6\n",
       "BI Data Analyst                               6\n",
       "Business Data Analyst                         5\n",
       "Data Engineering Manager                      5\n",
       "Head of Data                                  5\n",
       "Applied Data Scientist                        5\n",
       "Head of Data Science                          4\n",
       "Analytics Engineer                            4\n",
       "Applied Machine Learning Scientist            4\n",
       "Data Analytics Engineer                       4\n",
       "Data Science Engineer                         3\n",
       "Computer Vision Software Engineer             3\n",
       "Machine Learning Infrastructure Engineer      3\n",
       "Machine Learning Developer                    3\n",
       "Lead Data Scientist                           3\n",
       "Principal Data Engineer                       3\n",
       "Lead Data Analyst                             3\n",
       "Director of Data Engineering                  2\n",
       "Product Data Analyst                          2\n",
       "Principal Data Analyst                        2\n",
       "Cloud Data Engineer                           2\n",
       "Financial Data Analyst                        2\n",
       "ETL Developer                                 2\n",
       "3D Computer Vision Researcher                 1\n",
       "NLP Engineer                                  1\n",
       "Lead Machine Learning Engineer                1\n",
       "Staff Data Scientist                          1\n",
       "Big Data Architect                            1\n",
       "Marketing Data Analyst                        1\n",
       "Machine Learning Manager                      1\n",
       "Data Specialist                               1\n",
       "Data Analytics Lead                           1\n",
       "Head of Machine Learning                      1\n",
       "Finance Data Analyst                          1\n",
       "Name: Designation, dtype: int64"
      ]
     },
     "execution_count": 25,
     "metadata": {},
     "output_type": "execute_result"
    }
   ],
   "source": [
    "data['Designation'].value_counts()"
   ]
  },
  {
   "cell_type": "markdown",
   "metadata": {},
   "source": [
    "## There is tidiness issue here,there is need to merge some designations together"
   ]
  },
  {
   "cell_type": "markdown",
   "metadata": {},
   "source": [
    "# Designations that stands out\n",
    "\n",
    "* Data analyst ,'Data Analyst','Data Analytics Manager ','BI Data Analyst ','Business Data Analyst','Principal Data Analyst','Financial Data Analyst','Product Data Analyst'\n",
    "\n",
    "* 'Marketing Data Analyst','Finance Data Analyst','Data Analytics Lead'\n",
    "\n",
    "* Data engineer,'Data Engineer','Big Data Engineer','Lead Data Engineer','Data Engineering Manager','Data Analytics \n",
    "\n",
    "* Engineer','Analytics Engineer','Principal Data Engineer','Data Science Engineer','Director of Data Engineering','Cloud Data Engineer '\n",
    "\n",
    "* machine learning engineer,'Machine Learning Engineer','Machine Learning Scientist','ML Engineer','Applied Machine Learning Scientist','Machine Learning Developer','Machine Learning Infrastructure Engineer','Machine Learning Manager','Lead Machine Learning Engineer','Head of Machine Learning'\n",
    "\n",
    "* Data scientist,'Data Scientist','Research Scientist','Data Science Manager','Principal Data Scientist','Data Science Consultant','Director of Data Science','Applied Data Scientist','Head of Data Science','Lead Data Scientist','Staff Data Scientist','Research Scientist'\n",
    "\n",
    "* Computer Vision Engineer,'3D Computer Vision Researcher','Computer Vision Software Engineer','Computer Vision Engineer'\n",
    "\n",
    "* NLP Engineer\n",
    "\n",
    "* ETL Developer\n",
    "\n",
    "* Data Architect,'Big Data Architect','Data Architect',\n",
    "\n",
    "* AI Scientist"
   ]
  },
  {
   "cell_type": "code",
   "execution_count": 26,
   "metadata": {},
   "outputs": [],
   "source": [
    "data['Designation']= data.Designation.replace(['Data Analyst','Data Analytics Manager','BI Data Analyst','Business Data Analyst','Principal Data Analyst','Financial Data Analyst','Product Data Analyst'\n",
    "'Marketing Data Analyst','Finance Data Analyst','Data Analytics Lead','Lead Data Analyst','Product Data Analyst'],'Data Analyst',regex=True).astype(str)\n",
    "\n",
    "data['Designation']= data.Designation.replace(['Data Engineer','Big Data Engineer','Lead Data Engineer','Data Engineering Manager','Data Analytics Engineer','Analytics Engineer','Principal Data Engineer',\n",
    "'Data Science Engineer','Director of Data Engineering','Cloud Data Engineer'],'Data Engineer',regex=True).astype(str)\n",
    "\n",
    "data['Designation']= data.Designation.replace(['Machine Learning Engineer','Machine Learning Scientist','ML Engineer','Applied Machine Learning Scientist','Machine Learning Developer','Machine Learning Infrastructure Engineer',#\n",
    "'Machine Learning Manager','Lead Machine Learning Engineer','Head of Machine Learning','Applied Machine Learning Engineer'],'Machine Learning Engineer',regex=True).astype(str)\n",
    "\n",
    "data['Designation']= data.Designation.replace(['Data Scientist','Research Scientist','Data Science Manager','Principal Data Scientist','Data Science Consultant','Director of Data Science','Applied Data Scientist',\n",
    "'Head of Data Science','Head of Data','Lead Data Scientist','Staff Data Scientist','Research Scientist'],'Data Scientist',regex=True).astype(str)\n",
    "\n",
    "data['Designation']= data.Designation.replace(['3D Computer Vision Researcher','Computer Vision Software Engineer','Computer Vision Engineer'],'Computer Vision Engineer',regex=True).astype(str)\n",
    "\n",
    "data['Designation']= data.Designation.replace(['Big Data Architect','Data Architect'],'Data Architect',regex=True).astype(str)"
   ]
  },
  {
   "cell_type": "code",
   "execution_count": 27,
   "metadata": {
    "scrolled": false
   },
   "outputs": [
    {
     "data": {
      "text/plain": [
       "Data Scientist               210\n",
       "Data Engineer                169\n",
       "Data Analyst                 126\n",
       "Machine Learning Engineer     68\n",
       "Data Architect                12\n",
       "Computer Vision Engineer      10\n",
       "AI Scientist                   7\n",
       "ETL Developer                  2\n",
       "NLP Engineer                   1\n",
       "Data Specialist                1\n",
       "Marketing Data Analyst         1\n",
       "Name: Designation, dtype: int64"
      ]
     },
     "execution_count": 27,
     "metadata": {},
     "output_type": "execute_result"
    }
   ],
   "source": [
    "data['Designation'].value_counts()"
   ]
  },
  {
   "cell_type": "markdown",
   "metadata": {},
   "source": [
    "## There is need to drop some designations because they have less than =<2 entries,hence we can't make a proper conclusion on using  them"
   ]
  },
  {
   "cell_type": "code",
   "execution_count": 28,
   "metadata": {},
   "outputs": [
    {
     "data": {
      "text/html": [
       "<div>\n",
       "<style scoped>\n",
       "    .dataframe tbody tr th:only-of-type {\n",
       "        vertical-align: middle;\n",
       "    }\n",
       "\n",
       "    .dataframe tbody tr th {\n",
       "        vertical-align: top;\n",
       "    }\n",
       "\n",
       "    .dataframe thead th {\n",
       "        text-align: right;\n",
       "    }\n",
       "</style>\n",
       "<table border=\"1\" class=\"dataframe\">\n",
       "  <thead>\n",
       "    <tr style=\"text-align: right;\">\n",
       "      <th></th>\n",
       "      <th>Working_Year</th>\n",
       "      <th>Designation</th>\n",
       "      <th>Experience</th>\n",
       "      <th>Employment_Status</th>\n",
       "      <th>Salary_In_Rupees</th>\n",
       "      <th>Employee_Location</th>\n",
       "      <th>Company_Location</th>\n",
       "      <th>Company_Size</th>\n",
       "      <th>Remote_Working_Ratio</th>\n",
       "    </tr>\n",
       "  </thead>\n",
       "  <tbody>\n",
       "    <tr>\n",
       "      <th>165</th>\n",
       "      <td>2021</td>\n",
       "      <td>Data Specialist</td>\n",
       "      <td>Senior-Level</td>\n",
       "      <td>Full_Time</td>\n",
       "      <td>13128968.0</td>\n",
       "      <td>Malta</td>\n",
       "      <td>Malta</td>\n",
       "      <td>Large</td>\n",
       "      <td>Remote</td>\n",
       "    </tr>\n",
       "  </tbody>\n",
       "</table>\n",
       "</div>"
      ],
      "text/plain": [
       "     Working_Year      Designation    Experience Employment_Status  \\\n",
       "165          2021  Data Specialist  Senior-Level         Full_Time   \n",
       "\n",
       "     Salary_In_Rupees Employee_Location Company_Location Company_Size  \\\n",
       "165        13128968.0             Malta            Malta        Large   \n",
       "\n",
       "    Remote_Working_Ratio  \n",
       "165               Remote  "
      ]
     },
     "execution_count": 28,
     "metadata": {},
     "output_type": "execute_result"
    }
   ],
   "source": [
    "data[data['Designation']=='Data Specialist']\n"
   ]
  },
  {
   "cell_type": "code",
   "execution_count": 29,
   "metadata": {},
   "outputs": [
    {
     "data": {
      "text/html": [
       "<div>\n",
       "<style scoped>\n",
       "    .dataframe tbody tr th:only-of-type {\n",
       "        vertical-align: middle;\n",
       "    }\n",
       "\n",
       "    .dataframe tbody tr th {\n",
       "        vertical-align: top;\n",
       "    }\n",
       "\n",
       "    .dataframe thead th {\n",
       "        text-align: right;\n",
       "    }\n",
       "</style>\n",
       "<table border=\"1\" class=\"dataframe\">\n",
       "  <thead>\n",
       "    <tr style=\"text-align: right;\">\n",
       "      <th></th>\n",
       "      <th>Working_Year</th>\n",
       "      <th>Designation</th>\n",
       "      <th>Experience</th>\n",
       "      <th>Employment_Status</th>\n",
       "      <th>Salary_In_Rupees</th>\n",
       "      <th>Employee_Location</th>\n",
       "      <th>Company_Location</th>\n",
       "      <th>Company_Size</th>\n",
       "      <th>Remote_Working_Ratio</th>\n",
       "    </tr>\n",
       "  </thead>\n",
       "  <tbody>\n",
       "    <tr>\n",
       "      <th>373</th>\n",
       "      <td>2022</td>\n",
       "      <td>ETL Developer</td>\n",
       "      <td>Mid-Level</td>\n",
       "      <td>Full_Time</td>\n",
       "      <td>4372901.0</td>\n",
       "      <td>Austria</td>\n",
       "      <td>Austria</td>\n",
       "      <td>Medium</td>\n",
       "      <td>On-site</td>\n",
       "    </tr>\n",
       "    <tr>\n",
       "      <th>374</th>\n",
       "      <td>2022</td>\n",
       "      <td>ETL Developer</td>\n",
       "      <td>Mid-Level</td>\n",
       "      <td>Full_Time</td>\n",
       "      <td>4372901.0</td>\n",
       "      <td>Austria</td>\n",
       "      <td>Austria</td>\n",
       "      <td>Medium</td>\n",
       "      <td>On-site</td>\n",
       "    </tr>\n",
       "  </tbody>\n",
       "</table>\n",
       "</div>"
      ],
      "text/plain": [
       "     Working_Year    Designation Experience Employment_Status  \\\n",
       "373          2022  ETL Developer  Mid-Level         Full_Time   \n",
       "374          2022  ETL Developer  Mid-Level         Full_Time   \n",
       "\n",
       "     Salary_In_Rupees Employee_Location Company_Location Company_Size  \\\n",
       "373         4372901.0           Austria          Austria       Medium   \n",
       "374         4372901.0           Austria          Austria       Medium   \n",
       "\n",
       "    Remote_Working_Ratio  \n",
       "373              On-site  \n",
       "374              On-site  "
      ]
     },
     "execution_count": 29,
     "metadata": {},
     "output_type": "execute_result"
    }
   ],
   "source": [
    "data[data['Designation']=='ETL Developer']\n"
   ]
  },
  {
   "cell_type": "code",
   "execution_count": 30,
   "metadata": {},
   "outputs": [
    {
     "data": {
      "text/html": [
       "<div>\n",
       "<style scoped>\n",
       "    .dataframe tbody tr th:only-of-type {\n",
       "        vertical-align: middle;\n",
       "    }\n",
       "\n",
       "    .dataframe tbody tr th {\n",
       "        vertical-align: top;\n",
       "    }\n",
       "\n",
       "    .dataframe thead th {\n",
       "        text-align: right;\n",
       "    }\n",
       "</style>\n",
       "<table border=\"1\" class=\"dataframe\">\n",
       "  <thead>\n",
       "    <tr style=\"text-align: right;\">\n",
       "      <th></th>\n",
       "      <th>Working_Year</th>\n",
       "      <th>Designation</th>\n",
       "      <th>Experience</th>\n",
       "      <th>Employment_Status</th>\n",
       "      <th>Salary_In_Rupees</th>\n",
       "      <th>Employee_Location</th>\n",
       "      <th>Company_Location</th>\n",
       "      <th>Company_Size</th>\n",
       "      <th>Remote_Working_Ratio</th>\n",
       "    </tr>\n",
       "  </thead>\n",
       "  <tbody>\n",
       "    <tr>\n",
       "      <th>455</th>\n",
       "      <td>2022</td>\n",
       "      <td>NLP Engineer</td>\n",
       "      <td>Mid-Level</td>\n",
       "      <td>Full_Time</td>\n",
       "      <td>2962850.0</td>\n",
       "      <td>Malta</td>\n",
       "      <td>Malta</td>\n",
       "      <td>Large</td>\n",
       "      <td>Hybrid</td>\n",
       "    </tr>\n",
       "  </tbody>\n",
       "</table>\n",
       "</div>"
      ],
      "text/plain": [
       "     Working_Year   Designation Experience Employment_Status  \\\n",
       "455          2022  NLP Engineer  Mid-Level         Full_Time   \n",
       "\n",
       "     Salary_In_Rupees Employee_Location Company_Location Company_Size  \\\n",
       "455         2962850.0             Malta            Malta        Large   \n",
       "\n",
       "    Remote_Working_Ratio  \n",
       "455               Hybrid  "
      ]
     },
     "execution_count": 30,
     "metadata": {},
     "output_type": "execute_result"
    }
   ],
   "source": [
    "data[data['Designation']=='NLP Engineer']\n"
   ]
  },
  {
   "cell_type": "code",
   "execution_count": 31,
   "metadata": {},
   "outputs": [
    {
     "data": {
      "text/html": [
       "<div>\n",
       "<style scoped>\n",
       "    .dataframe tbody tr th:only-of-type {\n",
       "        vertical-align: middle;\n",
       "    }\n",
       "\n",
       "    .dataframe tbody tr th {\n",
       "        vertical-align: top;\n",
       "    }\n",
       "\n",
       "    .dataframe thead th {\n",
       "        text-align: right;\n",
       "    }\n",
       "</style>\n",
       "<table border=\"1\" class=\"dataframe\">\n",
       "  <thead>\n",
       "    <tr style=\"text-align: right;\">\n",
       "      <th></th>\n",
       "      <th>Working_Year</th>\n",
       "      <th>Designation</th>\n",
       "      <th>Experience</th>\n",
       "      <th>Employment_Status</th>\n",
       "      <th>Salary_In_Rupees</th>\n",
       "      <th>Employee_Location</th>\n",
       "      <th>Company_Location</th>\n",
       "      <th>Company_Size</th>\n",
       "      <th>Remote_Working_Ratio</th>\n",
       "    </tr>\n",
       "  </thead>\n",
       "  <tbody>\n",
       "    <tr>\n",
       "      <th>90</th>\n",
       "      <td>2021</td>\n",
       "      <td>Marketing Data Analyst</td>\n",
       "      <td>Senior-Level</td>\n",
       "      <td>Full_Time</td>\n",
       "      <td>7054154.0</td>\n",
       "      <td>Chile</td>\n",
       "      <td>Chile</td>\n",
       "      <td>Large</td>\n",
       "      <td>Remote</td>\n",
       "    </tr>\n",
       "  </tbody>\n",
       "</table>\n",
       "</div>"
      ],
      "text/plain": [
       "    Working_Year             Designation    Experience Employment_Status  \\\n",
       "90          2021  Marketing Data Analyst  Senior-Level         Full_Time   \n",
       "\n",
       "    Salary_In_Rupees Employee_Location Company_Location Company_Size  \\\n",
       "90         7054154.0             Chile            Chile        Large   \n",
       "\n",
       "   Remote_Working_Ratio  \n",
       "90               Remote  "
      ]
     },
     "execution_count": 31,
     "metadata": {},
     "output_type": "execute_result"
    }
   ],
   "source": [
    "data[data['Designation']=='Marketing Data Analyst']"
   ]
  },
  {
   "cell_type": "code",
   "execution_count": 32,
   "metadata": {},
   "outputs": [
    {
     "data": {
      "text/html": [
       "<div>\n",
       "<style scoped>\n",
       "    .dataframe tbody tr th:only-of-type {\n",
       "        vertical-align: middle;\n",
       "    }\n",
       "\n",
       "    .dataframe tbody tr th {\n",
       "        vertical-align: top;\n",
       "    }\n",
       "\n",
       "    .dataframe thead th {\n",
       "        text-align: right;\n",
       "    }\n",
       "</style>\n",
       "<table border=\"1\" class=\"dataframe\">\n",
       "  <thead>\n",
       "    <tr style=\"text-align: right;\">\n",
       "      <th></th>\n",
       "      <th>Working_Year</th>\n",
       "      <th>Designation</th>\n",
       "      <th>Experience</th>\n",
       "      <th>Employment_Status</th>\n",
       "      <th>Salary_In_Rupees</th>\n",
       "      <th>Employee_Location</th>\n",
       "      <th>Company_Location</th>\n",
       "      <th>Company_Size</th>\n",
       "      <th>Remote_Working_Ratio</th>\n",
       "    </tr>\n",
       "  </thead>\n",
       "  <tbody>\n",
       "    <tr>\n",
       "      <th>0</th>\n",
       "      <td>2020</td>\n",
       "      <td>Data Scientist</td>\n",
       "      <td>Mid-Level</td>\n",
       "      <td>Full_Time</td>\n",
       "      <td>6352272.0</td>\n",
       "      <td>United States</td>\n",
       "      <td>United States</td>\n",
       "      <td>Large</td>\n",
       "      <td>On-site</td>\n",
       "    </tr>\n",
       "    <tr>\n",
       "      <th>1</th>\n",
       "      <td>2020</td>\n",
       "      <td>Machine Learning Engineer</td>\n",
       "      <td>Senior-Level</td>\n",
       "      <td>Full_Time</td>\n",
       "      <td>20688070.0</td>\n",
       "      <td>Algeria</td>\n",
       "      <td>Algeria</td>\n",
       "      <td>Small</td>\n",
       "      <td>On-site</td>\n",
       "    </tr>\n",
       "    <tr>\n",
       "      <th>2</th>\n",
       "      <td>2020</td>\n",
       "      <td>Data Engineer</td>\n",
       "      <td>Senior-Level</td>\n",
       "      <td>Full_Time</td>\n",
       "      <td>8674985.0</td>\n",
       "      <td>Ukraine</td>\n",
       "      <td>Ukraine</td>\n",
       "      <td>Medium</td>\n",
       "      <td>Hybrid</td>\n",
       "    </tr>\n",
       "    <tr>\n",
       "      <th>3</th>\n",
       "      <td>2020</td>\n",
       "      <td>Data Analyst</td>\n",
       "      <td>Mid-Level</td>\n",
       "      <td>Full_Time</td>\n",
       "      <td>1591390.0</td>\n",
       "      <td>Canada</td>\n",
       "      <td>Canada</td>\n",
       "      <td>Small</td>\n",
       "      <td>On-site</td>\n",
       "    </tr>\n",
       "    <tr>\n",
       "      <th>4</th>\n",
       "      <td>2020</td>\n",
       "      <td>Machine Learning Engineer</td>\n",
       "      <td>Senior-Level</td>\n",
       "      <td>Full_Time</td>\n",
       "      <td>11935425.0</td>\n",
       "      <td>Malta</td>\n",
       "      <td>Malta</td>\n",
       "      <td>Large</td>\n",
       "      <td>Hybrid</td>\n",
       "    </tr>\n",
       "    <tr>\n",
       "      <th>...</th>\n",
       "      <td>...</td>\n",
       "      <td>...</td>\n",
       "      <td>...</td>\n",
       "      <td>...</td>\n",
       "      <td>...</td>\n",
       "      <td>...</td>\n",
       "      <td>...</td>\n",
       "      <td>...</td>\n",
       "      <td>...</td>\n",
       "    </tr>\n",
       "    <tr>\n",
       "      <th>602</th>\n",
       "      <td>2022</td>\n",
       "      <td>Data Engineer</td>\n",
       "      <td>Senior-Level</td>\n",
       "      <td>Full_Time</td>\n",
       "      <td>12253703.0</td>\n",
       "      <td>Malta</td>\n",
       "      <td>Malta</td>\n",
       "      <td>Medium</td>\n",
       "      <td>Remote</td>\n",
       "    </tr>\n",
       "    <tr>\n",
       "      <th>603</th>\n",
       "      <td>2022</td>\n",
       "      <td>Data Engineer</td>\n",
       "      <td>Senior-Level</td>\n",
       "      <td>Full_Time</td>\n",
       "      <td>10025757.0</td>\n",
       "      <td>Malta</td>\n",
       "      <td>Malta</td>\n",
       "      <td>Medium</td>\n",
       "      <td>Remote</td>\n",
       "    </tr>\n",
       "    <tr>\n",
       "      <th>604</th>\n",
       "      <td>2022</td>\n",
       "      <td>Data Analyst</td>\n",
       "      <td>Senior-Level</td>\n",
       "      <td>Full_Time</td>\n",
       "      <td>10264466.0</td>\n",
       "      <td>Malta</td>\n",
       "      <td>Malta</td>\n",
       "      <td>Medium</td>\n",
       "      <td>On-site</td>\n",
       "    </tr>\n",
       "    <tr>\n",
       "      <th>605</th>\n",
       "      <td>2022</td>\n",
       "      <td>Data Analyst</td>\n",
       "      <td>Senior-Level</td>\n",
       "      <td>Full_Time</td>\n",
       "      <td>11935425.0</td>\n",
       "      <td>Malta</td>\n",
       "      <td>Malta</td>\n",
       "      <td>Medium</td>\n",
       "      <td>Remote</td>\n",
       "    </tr>\n",
       "    <tr>\n",
       "      <th>606</th>\n",
       "      <td>2022</td>\n",
       "      <td>AI Scientist</td>\n",
       "      <td>Mid-Level</td>\n",
       "      <td>Full_Time</td>\n",
       "      <td>15913900.0</td>\n",
       "      <td>Malta</td>\n",
       "      <td>Malta</td>\n",
       "      <td>Large</td>\n",
       "      <td>Remote</td>\n",
       "    </tr>\n",
       "  </tbody>\n",
       "</table>\n",
       "<p>602 rows × 9 columns</p>\n",
       "</div>"
      ],
      "text/plain": [
       "     Working_Year                Designation    Experience Employment_Status  \\\n",
       "0            2020             Data Scientist     Mid-Level         Full_Time   \n",
       "1            2020  Machine Learning Engineer  Senior-Level         Full_Time   \n",
       "2            2020              Data Engineer  Senior-Level         Full_Time   \n",
       "3            2020               Data Analyst     Mid-Level         Full_Time   \n",
       "4            2020  Machine Learning Engineer  Senior-Level         Full_Time   \n",
       "..            ...                        ...           ...               ...   \n",
       "602          2022              Data Engineer  Senior-Level         Full_Time   \n",
       "603          2022              Data Engineer  Senior-Level         Full_Time   \n",
       "604          2022               Data Analyst  Senior-Level         Full_Time   \n",
       "605          2022               Data Analyst  Senior-Level         Full_Time   \n",
       "606          2022               AI Scientist     Mid-Level         Full_Time   \n",
       "\n",
       "     Salary_In_Rupees Employee_Location Company_Location Company_Size  \\\n",
       "0           6352272.0     United States    United States        Large   \n",
       "1          20688070.0           Algeria          Algeria        Small   \n",
       "2           8674985.0           Ukraine          Ukraine       Medium   \n",
       "3           1591390.0            Canada           Canada        Small   \n",
       "4          11935425.0             Malta            Malta        Large   \n",
       "..                ...               ...              ...          ...   \n",
       "602        12253703.0             Malta            Malta       Medium   \n",
       "603        10025757.0             Malta            Malta       Medium   \n",
       "604        10264466.0             Malta            Malta       Medium   \n",
       "605        11935425.0             Malta            Malta       Medium   \n",
       "606        15913900.0             Malta            Malta        Large   \n",
       "\n",
       "    Remote_Working_Ratio  \n",
       "0                On-site  \n",
       "1                On-site  \n",
       "2                 Hybrid  \n",
       "3                On-site  \n",
       "4                 Hybrid  \n",
       "..                   ...  \n",
       "602               Remote  \n",
       "603               Remote  \n",
       "604              On-site  \n",
       "605               Remote  \n",
       "606               Remote  \n",
       "\n",
       "[602 rows x 9 columns]"
      ]
     },
     "execution_count": 32,
     "metadata": {},
     "output_type": "execute_result"
    }
   ],
   "source": [
    "data.drop([165,373,374,455,90],inplace=True)\n",
    "data"
   ]
  },
  {
   "cell_type": "code",
   "execution_count": null,
   "metadata": {},
   "outputs": [],
   "source": []
  },
  {
   "cell_type": "markdown",
   "metadata": {},
   "source": [
    "$$\n",
    "SEPERATION ACCORDING  TO    EXPERIENCE\n",
    "$$"
   ]
  },
  {
   "cell_type": "markdown",
   "metadata": {},
   "source": [
    "# ENTRY LEVEL"
   ]
  },
  {
   "cell_type": "code",
   "execution_count": 33,
   "metadata": {},
   "outputs": [
    {
     "data": {
      "text/html": [
       "<div>\n",
       "<style scoped>\n",
       "    .dataframe tbody tr th:only-of-type {\n",
       "        vertical-align: middle;\n",
       "    }\n",
       "\n",
       "    .dataframe tbody tr th {\n",
       "        vertical-align: top;\n",
       "    }\n",
       "\n",
       "    .dataframe thead th {\n",
       "        text-align: right;\n",
       "    }\n",
       "</style>\n",
       "<table border=\"1\" class=\"dataframe\">\n",
       "  <thead>\n",
       "    <tr style=\"text-align: right;\">\n",
       "      <th></th>\n",
       "      <th>Working_Year</th>\n",
       "      <th>Designation</th>\n",
       "      <th>Experience</th>\n",
       "      <th>Employment_Status</th>\n",
       "      <th>Salary_In_Rupees</th>\n",
       "      <th>Employee_Location</th>\n",
       "      <th>Company_Location</th>\n",
       "      <th>Company_Size</th>\n",
       "      <th>Remote_Working_Ratio</th>\n",
       "    </tr>\n",
       "  </thead>\n",
       "  <tbody>\n",
       "    <tr>\n",
       "      <th>5</th>\n",
       "      <td>2020.0</td>\n",
       "      <td>Data Analyst</td>\n",
       "      <td>Entry-Level</td>\n",
       "      <td>Full_Time</td>\n",
       "      <td>5729004.0</td>\n",
       "      <td>Malta</td>\n",
       "      <td>Malta</td>\n",
       "      <td>Large</td>\n",
       "      <td>Remote</td>\n",
       "    </tr>\n",
       "    <tr>\n",
       "      <th>10</th>\n",
       "      <td>2020.0</td>\n",
       "      <td>Data Scientist</td>\n",
       "      <td>Entry-Level</td>\n",
       "      <td>Full_Time</td>\n",
       "      <td>4083586.0</td>\n",
       "      <td>Poland</td>\n",
       "      <td>Poland</td>\n",
       "      <td>Small</td>\n",
       "      <td>On-site</td>\n",
       "    </tr>\n",
       "    <tr>\n",
       "      <th>12</th>\n",
       "      <td>2020.0</td>\n",
       "      <td>Data Scientist</td>\n",
       "      <td>Entry-Level</td>\n",
       "      <td>Full_Time</td>\n",
       "      <td>3176096.0</td>\n",
       "      <td>Poland</td>\n",
       "      <td>Poland</td>\n",
       "      <td>Medium</td>\n",
       "      <td>On-site</td>\n",
       "    </tr>\n",
       "    <tr>\n",
       "      <th>16</th>\n",
       "      <td>2020.0</td>\n",
       "      <td>Data Engineer</td>\n",
       "      <td>Entry-Level</td>\n",
       "      <td>Full_Time</td>\n",
       "      <td>3317173.0</td>\n",
       "      <td>Algeria</td>\n",
       "      <td>Algeria</td>\n",
       "      <td>Small</td>\n",
       "      <td>Remote</td>\n",
       "    </tr>\n",
       "    <tr>\n",
       "      <th>18</th>\n",
       "      <td>2020.0</td>\n",
       "      <td>Data Scientist</td>\n",
       "      <td>Entry-Level</td>\n",
       "      <td>Full_Time</td>\n",
       "      <td>454103.0</td>\n",
       "      <td>Belgium</td>\n",
       "      <td>Belgium</td>\n",
       "      <td>Medium</td>\n",
       "      <td>Hybrid</td>\n",
       "    </tr>\n",
       "    <tr>\n",
       "      <th>...</th>\n",
       "      <td>...</td>\n",
       "      <td>...</td>\n",
       "      <td>...</td>\n",
       "      <td>...</td>\n",
       "      <td>...</td>\n",
       "      <td>...</td>\n",
       "      <td>...</td>\n",
       "      <td>...</td>\n",
       "      <td>...</td>\n",
       "    </tr>\n",
       "    <tr>\n",
       "      <th>512</th>\n",
       "      <td>2022.0</td>\n",
       "      <td>Data Engineer</td>\n",
       "      <td>Entry-Level</td>\n",
       "      <td>Full_Time</td>\n",
       "      <td>5172018.0</td>\n",
       "      <td>Malta</td>\n",
       "      <td>Malta</td>\n",
       "      <td>Small</td>\n",
       "      <td>Remote</td>\n",
       "    </tr>\n",
       "    <tr>\n",
       "      <th>514</th>\n",
       "      <td>2022.0</td>\n",
       "      <td>Data Engineer</td>\n",
       "      <td>Entry-Level</td>\n",
       "      <td>Full_Time</td>\n",
       "      <td>1591390.0</td>\n",
       "      <td>Hungary</td>\n",
       "      <td>Hungary</td>\n",
       "      <td>Medium</td>\n",
       "      <td>On-site</td>\n",
       "    </tr>\n",
       "    <tr>\n",
       "      <th>521</th>\n",
       "      <td>2022.0</td>\n",
       "      <td>Computer Vision Engineer</td>\n",
       "      <td>Entry-Level</td>\n",
       "      <td>Full_Time</td>\n",
       "      <td>795695.0</td>\n",
       "      <td>Estonia</td>\n",
       "      <td>Estonia</td>\n",
       "      <td>Medium</td>\n",
       "      <td>Remote</td>\n",
       "    </tr>\n",
       "    <tr>\n",
       "      <th>600</th>\n",
       "      <td>2022.0</td>\n",
       "      <td>Data Analyst</td>\n",
       "      <td>Entry-Level</td>\n",
       "      <td>Full_Time</td>\n",
       "      <td>5331157.0</td>\n",
       "      <td>Japan</td>\n",
       "      <td>Japan</td>\n",
       "      <td>Medium</td>\n",
       "      <td>On-site</td>\n",
       "    </tr>\n",
       "    <tr>\n",
       "      <th>601</th>\n",
       "      <td>2022.0</td>\n",
       "      <td>Data Analyst</td>\n",
       "      <td>Entry-Level</td>\n",
       "      <td>Full_Time</td>\n",
       "      <td>4137614.0</td>\n",
       "      <td>Japan</td>\n",
       "      <td>Japan</td>\n",
       "      <td>Medium</td>\n",
       "      <td>On-site</td>\n",
       "    </tr>\n",
       "  </tbody>\n",
       "</table>\n",
       "<p>88 rows × 9 columns</p>\n",
       "</div>"
      ],
      "text/plain": [
       "     Working_Year               Designation   Experience Employment_Status  \\\n",
       "5          2020.0              Data Analyst  Entry-Level         Full_Time   \n",
       "10         2020.0            Data Scientist  Entry-Level         Full_Time   \n",
       "12         2020.0            Data Scientist  Entry-Level         Full_Time   \n",
       "16         2020.0             Data Engineer  Entry-Level         Full_Time   \n",
       "18         2020.0            Data Scientist  Entry-Level         Full_Time   \n",
       "..            ...                       ...          ...               ...   \n",
       "512        2022.0             Data Engineer  Entry-Level         Full_Time   \n",
       "514        2022.0             Data Engineer  Entry-Level         Full_Time   \n",
       "521        2022.0  Computer Vision Engineer  Entry-Level         Full_Time   \n",
       "600        2022.0              Data Analyst  Entry-Level         Full_Time   \n",
       "601        2022.0              Data Analyst  Entry-Level         Full_Time   \n",
       "\n",
       "     Salary_In_Rupees Employee_Location Company_Location Company_Size  \\\n",
       "5           5729004.0             Malta            Malta        Large   \n",
       "10          4083586.0            Poland           Poland        Small   \n",
       "12          3176096.0            Poland           Poland       Medium   \n",
       "16          3317173.0           Algeria          Algeria        Small   \n",
       "18           454103.0           Belgium          Belgium       Medium   \n",
       "..                ...               ...              ...          ...   \n",
       "512         5172018.0             Malta            Malta        Small   \n",
       "514         1591390.0           Hungary          Hungary       Medium   \n",
       "521          795695.0           Estonia          Estonia       Medium   \n",
       "600         5331157.0             Japan            Japan       Medium   \n",
       "601         4137614.0             Japan            Japan       Medium   \n",
       "\n",
       "    Remote_Working_Ratio  \n",
       "5                 Remote  \n",
       "10               On-site  \n",
       "12               On-site  \n",
       "16                Remote  \n",
       "18                Hybrid  \n",
       "..                   ...  \n",
       "512               Remote  \n",
       "514              On-site  \n",
       "521               Remote  \n",
       "600              On-site  \n",
       "601              On-site  \n",
       "\n",
       "[88 rows x 9 columns]"
      ]
     },
     "execution_count": 33,
     "metadata": {},
     "output_type": "execute_result"
    }
   ],
   "source": [
    "entry=data.where(data['Experience']=='Entry-Level')\n",
    "entry.dropna(inplace=True)\n",
    "entry"
   ]
  },
  {
   "cell_type": "code",
   "execution_count": 34,
   "metadata": {},
   "outputs": [
    {
     "name": "stdout",
     "output_type": "stream",
     "text": [
      "<class 'pandas.core.frame.DataFrame'>\n",
      "Int64Index: 88 entries, 5 to 601\n",
      "Data columns (total 9 columns):\n",
      " #   Column                Non-Null Count  Dtype  \n",
      "---  ------                --------------  -----  \n",
      " 0   Working_Year          88 non-null     float64\n",
      " 1   Designation           88 non-null     object \n",
      " 2   Experience            88 non-null     object \n",
      " 3   Employment_Status     88 non-null     object \n",
      " 4   Salary_In_Rupees      88 non-null     float64\n",
      " 5   Employee_Location     88 non-null     object \n",
      " 6   Company_Location      88 non-null     object \n",
      " 7   Company_Size          88 non-null     object \n",
      " 8   Remote_Working_Ratio  88 non-null     object \n",
      "dtypes: float64(2), object(7)\n",
      "memory usage: 6.9+ KB\n"
     ]
    },
    {
     "data": {
      "text/plain": [
       "Data Scientist               32\n",
       "Data Analyst                 17\n",
       "Data Engineer                16\n",
       "Machine Learning Engineer    14\n",
       "Computer Vision Engineer      5\n",
       "AI Scientist                  4\n",
       "Name: Designation, dtype: int64"
      ]
     },
     "execution_count": 34,
     "metadata": {},
     "output_type": "execute_result"
    }
   ],
   "source": [
    "entry.info()\n",
    "entry['Designation'].value_counts()"
   ]
  },
  {
   "cell_type": "markdown",
   "metadata": {},
   "source": [
    "## Q1: Which Designation earns the most salary"
   ]
  },
  {
   "cell_type": "code",
   "execution_count": 35,
   "metadata": {},
   "outputs": [
    {
     "data": {
      "text/html": [
       "<div>\n",
       "<style scoped>\n",
       "    .dataframe tbody tr th:only-of-type {\n",
       "        vertical-align: middle;\n",
       "    }\n",
       "\n",
       "    .dataframe tbody tr th {\n",
       "        vertical-align: top;\n",
       "    }\n",
       "\n",
       "    .dataframe thead th {\n",
       "        text-align: right;\n",
       "    }\n",
       "</style>\n",
       "<table border=\"1\" class=\"dataframe\">\n",
       "  <thead>\n",
       "    <tr style=\"text-align: right;\">\n",
       "      <th></th>\n",
       "      <th>Designation</th>\n",
       "      <th>Salary_In_Rupees</th>\n",
       "    </tr>\n",
       "  </thead>\n",
       "  <tbody>\n",
       "    <tr>\n",
       "      <th>5</th>\n",
       "      <td>Machine Learning Engineer</td>\n",
       "      <td>6.694017e+06</td>\n",
       "    </tr>\n",
       "    <tr>\n",
       "      <th>1</th>\n",
       "      <td>Computer Vision Engineer</td>\n",
       "      <td>6.104715e+06</td>\n",
       "    </tr>\n",
       "    <tr>\n",
       "      <th>4</th>\n",
       "      <td>Data Scientist</td>\n",
       "      <td>4.935917e+06</td>\n",
       "    </tr>\n",
       "    <tr>\n",
       "      <th>2</th>\n",
       "      <td>Data Analyst</td>\n",
       "      <td>4.544364e+06</td>\n",
       "    </tr>\n",
       "    <tr>\n",
       "      <th>3</th>\n",
       "      <td>Data Engineer</td>\n",
       "      <td>4.074516e+06</td>\n",
       "    </tr>\n",
       "  </tbody>\n",
       "</table>\n",
       "</div>"
      ],
      "text/plain": [
       "                 Designation  Salary_In_Rupees\n",
       "5  Machine Learning Engineer      6.694017e+06\n",
       "1   Computer Vision Engineer      6.104715e+06\n",
       "4             Data Scientist      4.935917e+06\n",
       "2               Data Analyst      4.544364e+06\n",
       "3              Data Engineer      4.074516e+06"
      ]
     },
     "execution_count": 35,
     "metadata": {},
     "output_type": "execute_result"
    }
   ],
   "source": [
    "# Q1\n",
    "  # grouping the data by designation andngetting the mean salary\n",
    "f =  entry.groupby('Designation' ,as_index= False).Salary_In_Rupees.mean()\n",
    "\n",
    "  # sorting the values in ascending order for easy representation\n",
    "f1=f.sort_values('Salary_In_Rupees',ascending= False).head(5)\n",
    "f1"
   ]
  },
  {
   "cell_type": "code",
   "execution_count": 36,
   "metadata": {},
   "outputs": [
    {
     "data": {
      "image/png": "[encoded data removed]",
      "text/plain": [
       "<Figure size 864x432 with 1 Axes>"
      ]
     },
     "metadata": {
      "needs_background": "light"
     },
     "output_type": "display_data"
    }
   ],
   "source": [
    "plt.figure(figsize=(12,6))\n",
    "sns.barplot(x='Salary_In_Rupees',y='Designation',data=f1)\n",
    "plt.xticks(rotation=90)\n",
    "plt.title('HIGHEST PAID DESIGNATION')\n",
    "plt.show()"
   ]
  },
  {
   "cell_type": "markdown",
   "metadata": {},
   "source": [
    "## Q2: Highest employing country, designation and employee location"
   ]
  },
  {
   "cell_type": "code",
   "execution_count": 37,
   "metadata": {},
   "outputs": [
    {
     "data": {
      "image/png": "[encoded data removed]",
      "text/plain": [
       "<Figure size 864x432 with 1 Axes>"
      ]
     },
     "metadata": {
      "needs_background": "light"
     },
     "output_type": "display_data"
    }
   ],
   "source": [
    " # Getting the employment rate of entry level country\n",
    "c=entry['Company_Location'].sort_values()\n",
    "plt.figure(figsize=(12,6))\n",
    "sns.histplot(data=c,color='red')\n",
    "plt.xticks(rotation=90)\n",
    "plt.title('HIGHEST EMPLOYING COUNTRIES')\n",
    "plt.show()"
   ]
  },
  {
   "cell_type": "code",
   "execution_count": 38,
   "metadata": {},
   "outputs": [
    {
     "data": {
      "image/png": "[encoded data removed]",
      "text/plain": [
       "<Figure size 864x432 with 1 Axes>"
      ]
     },
     "metadata": {
      "needs_background": "light"
     },
     "output_type": "display_data"
    }
   ],
   "source": [
    "# getting the designation that has the highest level of employement at entr level\n",
    "d=entry['Designation']\n",
    "plt.figure(figsize=(12,6))\n",
    "sns.histplot(data=d,color='purple')\n",
    "plt.xticks(rotation=90)\n",
    "plt.title('HIGHEST EMPLOYED DESIGNATIONS')\n",
    "plt.show()"
   ]
  },
  {
   "cell_type": "code",
   "execution_count": 39,
   "metadata": {},
   "outputs": [
    {
     "data": {
      "image/png": "[encoded data removed]",
      "text/plain": [
       "<Figure size 864x432 with 1 Axes>"
      ]
     },
     "metadata": {
      "needs_background": "light"
     },
     "output_type": "display_data"
    }
   ],
   "source": [
    "# getting the employee location with high number of employment\n",
    "e=entry['Employee_Location']\n",
    "plt.figure(figsize=(12,6))\n",
    "sns.histplot(data=e,color='orange',stat='frequency')\n",
    "plt.xticks(rotation=90)\n",
    "plt.title('HIGHEST DESIGNATION')\n",
    "plt.show()"
   ]
  },
  {
   "cell_type": "markdown",
   "metadata": {},
   "source": [
    "## Q3: What is the effect of remote work ratio on pay"
   ]
  },
  {
   "cell_type": "code",
   "execution_count": 40,
   "metadata": {},
   "outputs": [
    {
     "data": {
      "text/html": [
       "<div>\n",
       "<style scoped>\n",
       "    .dataframe tbody tr th:only-of-type {\n",
       "        vertical-align: middle;\n",
       "    }\n",
       "\n",
       "    .dataframe tbody tr th {\n",
       "        vertical-align: top;\n",
       "    }\n",
       "\n",
       "    .dataframe thead th {\n",
       "        text-align: right;\n",
       "    }\n",
       "</style>\n",
       "<table border=\"1\" class=\"dataframe\">\n",
       "  <thead>\n",
       "    <tr style=\"text-align: right;\">\n",
       "      <th></th>\n",
       "      <th>Remote_Working_Ratio</th>\n",
       "      <th>Salary_In_Rupees</th>\n",
       "    </tr>\n",
       "  </thead>\n",
       "  <tbody>\n",
       "    <tr>\n",
       "      <th>2</th>\n",
       "      <td>Remote</td>\n",
       "      <td>5.058024e+06</td>\n",
       "    </tr>\n",
       "    <tr>\n",
       "      <th>0</th>\n",
       "      <td>Hybrid</td>\n",
       "      <td>4.782070e+06</td>\n",
       "    </tr>\n",
       "    <tr>\n",
       "      <th>1</th>\n",
       "      <td>On-site</td>\n",
       "      <td>4.588483e+06</td>\n",
       "    </tr>\n",
       "  </tbody>\n",
       "</table>\n",
       "</div>"
      ],
      "text/plain": [
       "  Remote_Working_Ratio  Salary_In_Rupees\n",
       "2               Remote      5.058024e+06\n",
       "0               Hybrid      4.782070e+06\n",
       "1              On-site      4.588483e+06"
      ]
     },
     "execution_count": 40,
     "metadata": {},
     "output_type": "execute_result"
    }
   ],
   "source": [
    "f9=entry[['Remote_Working_Ratio','Salary_In_Rupees']].groupby(['Remote_Working_Ratio'],as_index= False).Salary_In_Rupees.mean()\n",
    "f3_9_p=f9.sort_values('Salary_In_Rupees',ascending= False)\n",
    "f3_9_p"
   ]
  },
  {
   "cell_type": "code",
   "execution_count": 41,
   "metadata": {},
   "outputs": [
    {
     "data": {
      "image/png": "[encoded data removed]",
      "text/plain": [
       "<Figure size 864x432 with 1 Axes>"
      ]
     },
     "metadata": {
      "needs_background": "light"
     },
     "output_type": "display_data"
    }
   ],
   "source": [
    "plt.figure(figsize=(12,6))\n",
    "sns.barplot(y='Salary_In_Rupees',x='Remote_Working_Ratio', data=f3_9_p)\n",
    "plt.xticks(rotation=90)\n",
    "plt.title('HIGHEST PAYING remote work ratio')\n",
    "plt.show()"
   ]
  },
  {
   "cell_type": "markdown",
   "metadata": {},
   "source": [
    "## Q4: What company size pays the most"
   ]
  },
  {
   "cell_type": "code",
   "execution_count": 42,
   "metadata": {},
   "outputs": [
    {
     "data": {
      "text/html": [
       "<div>\n",
       "<style scoped>\n",
       "    .dataframe tbody tr th:only-of-type {\n",
       "        vertical-align: middle;\n",
       "    }\n",
       "\n",
       "    .dataframe tbody tr th {\n",
       "        vertical-align: top;\n",
       "    }\n",
       "\n",
       "    .dataframe thead th {\n",
       "        text-align: right;\n",
       "    }\n",
       "</style>\n",
       "<table border=\"1\" class=\"dataframe\">\n",
       "  <thead>\n",
       "    <tr style=\"text-align: right;\">\n",
       "      <th></th>\n",
       "      <th>Company_Size</th>\n",
       "      <th>Salary_In_Rupees</th>\n",
       "    </tr>\n",
       "  </thead>\n",
       "  <tbody>\n",
       "    <tr>\n",
       "      <th>0</th>\n",
       "      <td>Large</td>\n",
       "      <td>5.793713e+06</td>\n",
       "    </tr>\n",
       "    <tr>\n",
       "      <th>2</th>\n",
       "      <td>Small</td>\n",
       "      <td>4.948054e+06</td>\n",
       "    </tr>\n",
       "    <tr>\n",
       "      <th>1</th>\n",
       "      <td>Medium</td>\n",
       "      <td>4.004080e+06</td>\n",
       "    </tr>\n",
       "  </tbody>\n",
       "</table>\n",
       "</div>"
      ],
      "text/plain": [
       "  Company_Size  Salary_In_Rupees\n",
       "0        Large      5.793713e+06\n",
       "2        Small      4.948054e+06\n",
       "1       Medium      4.004080e+06"
      ]
     },
     "execution_count": 42,
     "metadata": {},
     "output_type": "execute_result"
    }
   ],
   "source": [
    "f4_1=entry[['Company_Size','Salary_In_Rupees']].groupby(['Company_Size'],as_index= False).Salary_In_Rupees.mean()\n",
    "f4_1_p=f4_1.sort_values('Salary_In_Rupees',ascending= False).head(10)\n",
    "f4_1_p"
   ]
  },
  {
   "cell_type": "code",
   "execution_count": 43,
   "metadata": {},
   "outputs": [
    {
     "data": {
      "image/png": "[encoded data removed]",
      "text/plain": [
       "<Figure size 864x432 with 1 Axes>"
      ]
     },
     "metadata": {
      "needs_background": "light"
     },
     "output_type": "display_data"
    }
   ],
   "source": [
    "plt.figure(figsize=(12,6))\n",
    "sns.barplot(y='Salary_In_Rupees',x='Company_Size', data=f4_1_p)\n",
    "plt.xticks(rotation=90)\n",
    "plt.title('HIGHEST PAYING Company_Size')\n",
    "plt.show()"
   ]
  },
  {
   "cell_type": "code",
   "execution_count": 99,
   "metadata": {},
   "outputs": [
    {
     "data": {
      "text/html": [
       "<div>\n",
       "<style scoped>\n",
       "    .dataframe tbody tr th:only-of-type {\n",
       "        vertical-align: middle;\n",
       "    }\n",
       "\n",
       "    .dataframe tbody tr th {\n",
       "        vertical-align: top;\n",
       "    }\n",
       "\n",
       "    .dataframe thead th {\n",
       "        text-align: right;\n",
       "    }\n",
       "</style>\n",
       "<table border=\"1\" class=\"dataframe\">\n",
       "  <thead>\n",
       "    <tr style=\"text-align: right;\">\n",
       "      <th></th>\n",
       "      <th>Employment_Status</th>\n",
       "      <th>Salary_In_Rupees</th>\n",
       "    </tr>\n",
       "  </thead>\n",
       "  <tbody>\n",
       "    <tr>\n",
       "      <th>0</th>\n",
       "      <td>Contract</td>\n",
       "      <td>5.246614e+06</td>\n",
       "    </tr>\n",
       "    <tr>\n",
       "      <th>1</th>\n",
       "      <td>Full_Time</td>\n",
       "      <td>5.128848e+06</td>\n",
       "    </tr>\n",
       "    <tr>\n",
       "      <th>2</th>\n",
       "      <td>Part_Time</td>\n",
       "      <td>2.280212e+06</td>\n",
       "    </tr>\n",
       "  </tbody>\n",
       "</table>\n",
       "</div>"
      ],
      "text/plain": [
       "  Employment_Status  Salary_In_Rupees\n",
       "0          Contract      5.246614e+06\n",
       "1         Full_Time      5.128848e+06\n",
       "2         Part_Time      2.280212e+06"
      ]
     },
     "execution_count": 99,
     "metadata": {},
     "output_type": "execute_result"
    }
   ],
   "source": [
    "f4_12=entry[['Employment_Status','Salary_In_Rupees']].groupby(['Employment_Status'],as_index= False).Salary_In_Rupees.mean()\n",
    "f4_1_q=f4_12.sort_values('Salary_In_Rupees',ascending= False).head(10)\n",
    "f4_1_q"
   ]
  },
  {
   "cell_type": "code",
   "execution_count": 102,
   "metadata": {},
   "outputs": [
    {
     "data": {
      "image/png": "[encoded data removed]",
      "text/plain": [
       "<Figure size 864x432 with 1 Axes>"
      ]
     },
     "metadata": {
      "needs_background": "light"
     },
     "output_type": "display_data"
    }
   ],
   "source": [
    "plt.figure(figsize=(12,6))\n",
    "sns.barplot(x='Salary_In_Rupees',y='Employment_Status', data=f4_1_q)\n",
    "plt.xticks(rotation=360)\n",
    "plt.title('HIGHEST PAYING Employment_Status')\n",
    "plt.show()"
   ]
  },
  {
   "cell_type": "markdown",
   "metadata": {},
   "source": [
    "## MID-LEVEL"
   ]
  },
  {
   "cell_type": "code",
   "execution_count": 44,
   "metadata": {},
   "outputs": [
    {
     "data": {
      "text/html": [
       "<div>\n",
       "<style scoped>\n",
       "    .dataframe tbody tr th:only-of-type {\n",
       "        vertical-align: middle;\n",
       "    }\n",
       "\n",
       "    .dataframe tbody tr th {\n",
       "        vertical-align: top;\n",
       "    }\n",
       "\n",
       "    .dataframe thead th {\n",
       "        text-align: right;\n",
       "    }\n",
       "</style>\n",
       "<table border=\"1\" class=\"dataframe\">\n",
       "  <thead>\n",
       "    <tr style=\"text-align: right;\">\n",
       "      <th></th>\n",
       "      <th>Working_Year</th>\n",
       "      <th>Designation</th>\n",
       "      <th>Experience</th>\n",
       "      <th>Employment_Status</th>\n",
       "      <th>Salary_In_Rupees</th>\n",
       "      <th>Employee_Location</th>\n",
       "      <th>Company_Location</th>\n",
       "      <th>Company_Size</th>\n",
       "      <th>Remote_Working_Ratio</th>\n",
       "    </tr>\n",
       "  </thead>\n",
       "  <tbody>\n",
       "    <tr>\n",
       "      <th>0</th>\n",
       "      <td>2020.0</td>\n",
       "      <td>Data Scientist</td>\n",
       "      <td>Mid-Level</td>\n",
       "      <td>Full_Time</td>\n",
       "      <td>6352272.0</td>\n",
       "      <td>United States</td>\n",
       "      <td>United States</td>\n",
       "      <td>Large</td>\n",
       "      <td>On-site</td>\n",
       "    </tr>\n",
       "    <tr>\n",
       "      <th>3</th>\n",
       "      <td>2020.0</td>\n",
       "      <td>Data Analyst</td>\n",
       "      <td>Mid-Level</td>\n",
       "      <td>Full_Time</td>\n",
       "      <td>1591390.0</td>\n",
       "      <td>Canada</td>\n",
       "      <td>Canada</td>\n",
       "      <td>Small</td>\n",
       "      <td>On-site</td>\n",
       "    </tr>\n",
       "    <tr>\n",
       "      <th>7</th>\n",
       "      <td>2020.0</td>\n",
       "      <td>Data Scientist</td>\n",
       "      <td>Mid-Level</td>\n",
       "      <td>Full_Time</td>\n",
       "      <td>2843416.0</td>\n",
       "      <td>Switzerland</td>\n",
       "      <td>Switzerland</td>\n",
       "      <td>Large</td>\n",
       "      <td>Hybrid</td>\n",
       "    </tr>\n",
       "    <tr>\n",
       "      <th>8</th>\n",
       "      <td>2020.0</td>\n",
       "      <td>Data Analyst</td>\n",
       "      <td>Mid-Level</td>\n",
       "      <td>Full_Time</td>\n",
       "      <td>10741883.0</td>\n",
       "      <td>Malta</td>\n",
       "      <td>Malta</td>\n",
       "      <td>Large</td>\n",
       "      <td>Remote</td>\n",
       "    </tr>\n",
       "    <tr>\n",
       "      <th>11</th>\n",
       "      <td>2020.0</td>\n",
       "      <td>Data Scientist</td>\n",
       "      <td>Mid-Level</td>\n",
       "      <td>Full_Time</td>\n",
       "      <td>3221053.0</td>\n",
       "      <td>Belgium</td>\n",
       "      <td>Belgium</td>\n",
       "      <td>Large</td>\n",
       "      <td>On-site</td>\n",
       "    </tr>\n",
       "    <tr>\n",
       "      <th>...</th>\n",
       "      <td>...</td>\n",
       "      <td>...</td>\n",
       "      <td>...</td>\n",
       "      <td>...</td>\n",
       "      <td>...</td>\n",
       "      <td>...</td>\n",
       "      <td>...</td>\n",
       "      <td>...</td>\n",
       "      <td>...</td>\n",
       "    </tr>\n",
       "    <tr>\n",
       "      <th>567</th>\n",
       "      <td>2022.0</td>\n",
       "      <td>Data Analyst</td>\n",
       "      <td>Mid-Level</td>\n",
       "      <td>Full_Time</td>\n",
       "      <td>5206869.0</td>\n",
       "      <td>Ukraine</td>\n",
       "      <td>Ukraine</td>\n",
       "      <td>Medium</td>\n",
       "      <td>On-site</td>\n",
       "    </tr>\n",
       "    <tr>\n",
       "      <th>586</th>\n",
       "      <td>2022.0</td>\n",
       "      <td>Data Analyst</td>\n",
       "      <td>Mid-Level</td>\n",
       "      <td>Full_Time</td>\n",
       "      <td>3644840.0</td>\n",
       "      <td>Ukraine</td>\n",
       "      <td>Ukraine</td>\n",
       "      <td>Medium</td>\n",
       "      <td>On-site</td>\n",
       "    </tr>\n",
       "    <tr>\n",
       "      <th>598</th>\n",
       "      <td>2022.0</td>\n",
       "      <td>Data Scientist</td>\n",
       "      <td>Mid-Level</td>\n",
       "      <td>Full_Time</td>\n",
       "      <td>12731120.0</td>\n",
       "      <td>Malta</td>\n",
       "      <td>Malta</td>\n",
       "      <td>Medium</td>\n",
       "      <td>Remote</td>\n",
       "    </tr>\n",
       "    <tr>\n",
       "      <th>599</th>\n",
       "      <td>2022.0</td>\n",
       "      <td>Data Scientist</td>\n",
       "      <td>Mid-Level</td>\n",
       "      <td>Full_Time</td>\n",
       "      <td>10344035.0</td>\n",
       "      <td>Malta</td>\n",
       "      <td>Malta</td>\n",
       "      <td>Medium</td>\n",
       "      <td>Remote</td>\n",
       "    </tr>\n",
       "    <tr>\n",
       "      <th>606</th>\n",
       "      <td>2022.0</td>\n",
       "      <td>AI Scientist</td>\n",
       "      <td>Mid-Level</td>\n",
       "      <td>Full_Time</td>\n",
       "      <td>15913900.0</td>\n",
       "      <td>Malta</td>\n",
       "      <td>Malta</td>\n",
       "      <td>Large</td>\n",
       "      <td>Remote</td>\n",
       "    </tr>\n",
       "  </tbody>\n",
       "</table>\n",
       "<p>210 rows × 9 columns</p>\n",
       "</div>"
      ],
      "text/plain": [
       "     Working_Year     Designation Experience Employment_Status  \\\n",
       "0          2020.0  Data Scientist  Mid-Level         Full_Time   \n",
       "3          2020.0    Data Analyst  Mid-Level         Full_Time   \n",
       "7          2020.0  Data Scientist  Mid-Level         Full_Time   \n",
       "8          2020.0    Data Analyst  Mid-Level         Full_Time   \n",
       "11         2020.0  Data Scientist  Mid-Level         Full_Time   \n",
       "..            ...             ...        ...               ...   \n",
       "567        2022.0    Data Analyst  Mid-Level         Full_Time   \n",
       "586        2022.0    Data Analyst  Mid-Level         Full_Time   \n",
       "598        2022.0  Data Scientist  Mid-Level         Full_Time   \n",
       "599        2022.0  Data Scientist  Mid-Level         Full_Time   \n",
       "606        2022.0    AI Scientist  Mid-Level         Full_Time   \n",
       "\n",
       "     Salary_In_Rupees Employee_Location Company_Location Company_Size  \\\n",
       "0           6352272.0     United States    United States        Large   \n",
       "3           1591390.0            Canada           Canada        Small   \n",
       "7           2843416.0       Switzerland      Switzerland        Large   \n",
       "8          10741883.0             Malta            Malta        Large   \n",
       "11          3221053.0           Belgium          Belgium        Large   \n",
       "..                ...               ...              ...          ...   \n",
       "567         5206869.0           Ukraine          Ukraine       Medium   \n",
       "586         3644840.0           Ukraine          Ukraine       Medium   \n",
       "598        12731120.0             Malta            Malta       Medium   \n",
       "599        10344035.0             Malta            Malta       Medium   \n",
       "606        15913900.0             Malta            Malta        Large   \n",
       "\n",
       "    Remote_Working_Ratio  \n",
       "0                On-site  \n",
       "3                On-site  \n",
       "7                 Hybrid  \n",
       "8                 Remote  \n",
       "11               On-site  \n",
       "..                   ...  \n",
       "567              On-site  \n",
       "586              On-site  \n",
       "598               Remote  \n",
       "599               Remote  \n",
       "606               Remote  \n",
       "\n",
       "[210 rows x 9 columns]"
      ]
     },
     "execution_count": 44,
     "metadata": {},
     "output_type": "execute_result"
    }
   ],
   "source": [
    "# Getting a dataset where the experience level is mid_level\n",
    "mid_level=data.where(data['Experience']=='Mid-Level')\n",
    "\n",
    "# this will drop any row that doesn't belong to the mid_level experience\n",
    "mid_level.dropna(inplace=True)\n",
    "\n",
    "# this will give us the data set\n",
    "mid_level"
   ]
  },
  {
   "cell_type": "code",
   "execution_count": 45,
   "metadata": {},
   "outputs": [
    {
     "name": "stdout",
     "output_type": "stream",
     "text": [
      "<class 'pandas.core.frame.DataFrame'>\n",
      "Int64Index: 210 entries, 0 to 606\n",
      "Data columns (total 9 columns):\n",
      " #   Column                Non-Null Count  Dtype  \n",
      "---  ------                --------------  -----  \n",
      " 0   Working_Year          210 non-null    float64\n",
      " 1   Designation           210 non-null    object \n",
      " 2   Experience            210 non-null    object \n",
      " 3   Employment_Status     210 non-null    object \n",
      " 4   Salary_In_Rupees      210 non-null    float64\n",
      " 5   Employee_Location     210 non-null    object \n",
      " 6   Company_Location      210 non-null    object \n",
      " 7   Company_Size          210 non-null    object \n",
      " 8   Remote_Working_Ratio  210 non-null    object \n",
      "dtypes: float64(2), object(7)\n",
      "memory usage: 16.4+ KB\n"
     ]
    },
    {
     "data": {
      "text/plain": [
       "Data Scientist               76\n",
       "Data Engineer                61\n",
       "Data Analyst                 41\n",
       "Machine Learning Engineer    25\n",
       "Data Architect                3\n",
       "AI Scientist                  2\n",
       "Computer Vision Engineer      2\n",
       "Name: Designation, dtype: int64"
      ]
     },
     "execution_count": 45,
     "metadata": {},
     "output_type": "execute_result"
    }
   ],
   "source": [
    "# this will give use the infomation about the dataset to check for null and dtype\n",
    "mid_level.info()\n",
    "\n",
    "# this will give the frequency count of each designation under this experience level\n",
    "mid_level['Designation'].value_counts()"
   ]
  },
  {
   "cell_type": "markdown",
   "metadata": {},
   "source": [
    "## Q1: Which Designation earns the most salary"
   ]
  },
  {
   "cell_type": "code",
   "execution_count": 46,
   "metadata": {},
   "outputs": [
    {
     "data": {
      "text/html": [
       "<div>\n",
       "<style scoped>\n",
       "    .dataframe tbody tr th:only-of-type {\n",
       "        vertical-align: middle;\n",
       "    }\n",
       "\n",
       "    .dataframe tbody tr th {\n",
       "        vertical-align: top;\n",
       "    }\n",
       "\n",
       "    .dataframe thead th {\n",
       "        text-align: right;\n",
       "    }\n",
       "</style>\n",
       "<table border=\"1\" class=\"dataframe\">\n",
       "  <thead>\n",
       "    <tr style=\"text-align: right;\">\n",
       "      <th></th>\n",
       "      <th>Designation</th>\n",
       "      <th>Salary_In_Rupees</th>\n",
       "    </tr>\n",
       "  </thead>\n",
       "  <tbody>\n",
       "    <tr>\n",
       "      <th>3</th>\n",
       "      <td>Data Architect</td>\n",
       "      <td>1.326158e+07</td>\n",
       "    </tr>\n",
       "    <tr>\n",
       "      <th>0</th>\n",
       "      <td>AI Scientist</td>\n",
       "      <td>1.273112e+07</td>\n",
       "    </tr>\n",
       "    <tr>\n",
       "      <th>6</th>\n",
       "      <td>Machine Learning Engineer</td>\n",
       "      <td>7.847462e+06</td>\n",
       "    </tr>\n",
       "    <tr>\n",
       "      <th>5</th>\n",
       "      <td>Data Scientist</td>\n",
       "      <td>7.329866e+06</td>\n",
       "    </tr>\n",
       "    <tr>\n",
       "      <th>4</th>\n",
       "      <td>Data Engineer</td>\n",
       "      <td>6.538574e+06</td>\n",
       "    </tr>\n",
       "  </tbody>\n",
       "</table>\n",
       "</div>"
      ],
      "text/plain": [
       "                 Designation  Salary_In_Rupees\n",
       "3             Data Architect      1.326158e+07\n",
       "0               AI Scientist      1.273112e+07\n",
       "6  Machine Learning Engineer      7.847462e+06\n",
       "5             Data Scientist      7.329866e+06\n",
       "4              Data Engineer      6.538574e+06"
      ]
     },
     "execution_count": 46,
     "metadata": {},
     "output_type": "execute_result"
    }
   ],
   "source": [
    "# Q1 # Getting the average salary of the first 5 highest paid desingnation  \n",
    "f =  mid_level.groupby('Designation' ,as_index= False).Salary_In_Rupees.mean()\n",
    "f1=f.sort_values('Salary_In_Rupees',ascending= False).head(5)\n",
    "f1"
   ]
  },
  {
   "cell_type": "code",
   "execution_count": 47,
   "metadata": {},
   "outputs": [
    {
     "data": {
      "image/png": "[encoded data removed]",
      "text/plain": [
       "<Figure size 864x432 with 1 Axes>"
      ]
     },
     "metadata": {
      "needs_background": "light"
     },
     "output_type": "display_data"
    }
   ],
   "source": [
    "# plot show\n",
    "plt.figure(figsize=(12,6))\n",
    "sns.barplot(x='Salary_In_Rupees',y='Designation',data=f1)\n",
    "plt.xticks(rotation=90)\n",
    "plt.title('HIGHEST PAID DESIGNATION')\n",
    "plt.show()"
   ]
  },
  {
   "cell_type": "markdown",
   "metadata": {},
   "source": [
    "## Q2: Highest employing country, designation and employee location\n"
   ]
  },
  {
   "cell_type": "code",
   "execution_count": 48,
   "metadata": {},
   "outputs": [
    {
     "data": {
      "image/png": "[encoded data removed]",
      "text/plain": [
       "<Figure size 864x432 with 1 Axes>"
      ]
     },
     "metadata": {
      "needs_background": "light"
     },
     "output_type": "display_data"
    }
   ],
   "source": [
    "# getting the highest employing country\n",
    "c=mid_level['Company_Location']\n",
    "plt.figure(figsize=(12,6))\n",
    "sns.histplot(data=c,color='red')\n",
    "plt.xticks(rotation=90)\n",
    "plt.title('HIGHEST EMPLOYING COUNTRIES')\n",
    "plt.show()"
   ]
  },
  {
   "cell_type": "code",
   "execution_count": 49,
   "metadata": {},
   "outputs": [
    {
     "data": {
      "image/png": "[encoded data removed]",
      "text/plain": [
       "<Figure size 864x432 with 1 Axes>"
      ]
     },
     "metadata": {
      "needs_background": "light"
     },
     "output_type": "display_data"
    }
   ],
   "source": [
    "# determining the designation with most job opportunities\n",
    "d=mid_level['Designation']\n",
    "plt.figure(figsize=(12,6))\n",
    "sns.histplot(data=d,color='purple')\n",
    "plt.xticks(rotation=90)\n",
    "plt.title('HIGHEST DESIGNATION')\n",
    "plt.show()"
   ]
  },
  {
   "cell_type": "code",
   "execution_count": 50,
   "metadata": {},
   "outputs": [
    {
     "data": {
      "image/png": "[encoded data removed]",
      "text/plain": [
       "<Figure size 864x432 with 1 Axes>"
      ]
     },
     "metadata": {
      "needs_background": "light"
     },
     "output_type": "display_data"
    }
   ],
   "source": [
    "#  Determining the countries with high number of data talents that are employed\n",
    "e=mid_level['Employee_Location']\n",
    "plt.figure(figsize=(12,6))\n",
    "sns.histplot(data=e,color='orange')\n",
    "plt.xticks(rotation=90)\n",
    "plt.title('HIGHEST EMPLOYEE LOCATION ')\n",
    "plt.show()"
   ]
  },
  {
   "cell_type": "markdown",
   "metadata": {},
   "source": [
    "## Q3: What is the effect of remote work ratio on pay\n",
    "\n"
   ]
  },
  {
   "cell_type": "code",
   "execution_count": 51,
   "metadata": {},
   "outputs": [
    {
     "data": {
      "text/html": [
       "<div>\n",
       "<style scoped>\n",
       "    .dataframe tbody tr th:only-of-type {\n",
       "        vertical-align: middle;\n",
       "    }\n",
       "\n",
       "    .dataframe tbody tr th {\n",
       "        vertical-align: top;\n",
       "    }\n",
       "\n",
       "    .dataframe thead th {\n",
       "        text-align: right;\n",
       "    }\n",
       "</style>\n",
       "<table border=\"1\" class=\"dataframe\">\n",
       "  <thead>\n",
       "    <tr style=\"text-align: right;\">\n",
       "      <th></th>\n",
       "      <th>Remote_Working_Ratio</th>\n",
       "      <th>Salary_In_Rupees</th>\n",
       "    </tr>\n",
       "  </thead>\n",
       "  <tbody>\n",
       "    <tr>\n",
       "      <th>2</th>\n",
       "      <td>Remote</td>\n",
       "      <td>7.564326e+06</td>\n",
       "    </tr>\n",
       "    <tr>\n",
       "      <th>1</th>\n",
       "      <td>On-site</td>\n",
       "      <td>6.615097e+06</td>\n",
       "    </tr>\n",
       "    <tr>\n",
       "      <th>0</th>\n",
       "      <td>Hybrid</td>\n",
       "      <td>6.160059e+06</td>\n",
       "    </tr>\n",
       "  </tbody>\n",
       "</table>\n",
       "</div>"
      ],
      "text/plain": [
       "  Remote_Working_Ratio  Salary_In_Rupees\n",
       "2               Remote      7.564326e+06\n",
       "1              On-site      6.615097e+06\n",
       "0               Hybrid      6.160059e+06"
      ]
     },
     "execution_count": 51,
     "metadata": {},
     "output_type": "execute_result"
    }
   ],
   "source": [
    "# grouping the data accroding to remote working ratio and then fining the mean salary\n",
    "f9=mid_level[['Remote_Working_Ratio','Salary_In_Rupees']].groupby(['Remote_Working_Ratio'],as_index= False).Salary_In_Rupees.mean()\n",
    "\n",
    "# arranging the values in descending order for visualization\n",
    "f3_9_p=f9.sort_values('Salary_In_Rupees',ascending= False)\n",
    "\n",
    "# showing the data\n",
    "f3_9_p"
   ]
  },
  {
   "cell_type": "code",
   "execution_count": 52,
   "metadata": {},
   "outputs": [
    {
     "data": {
      "image/png": "[encoded data removed]",
      "text/plain": [
       "<Figure size 864x432 with 1 Axes>"
      ]
     },
     "metadata": {
      "needs_background": "light"
     },
     "output_type": "display_data"
    }
   ],
   "source": [
    "# ploting the graph\n",
    "plt.figure(figsize=(12,6))\n",
    "sns.barplot(y='Salary_In_Rupees',x='Remote_Working_Ratio', data=f3_9_p)\n",
    "plt.xticks(rotation=90)\n",
    "plt.title('HIGHEST PAYING REMOTE-WORK-RATIO')\n",
    "plt.show()"
   ]
  },
  {
   "cell_type": "markdown",
   "metadata": {},
   "source": [
    "## Q4: What company size pays the most\n"
   ]
  },
  {
   "cell_type": "code",
   "execution_count": 53,
   "metadata": {},
   "outputs": [
    {
     "data": {
      "text/html": [
       "<div>\n",
       "<style scoped>\n",
       "    .dataframe tbody tr th:only-of-type {\n",
       "        vertical-align: middle;\n",
       "    }\n",
       "\n",
       "    .dataframe tbody tr th {\n",
       "        vertical-align: top;\n",
       "    }\n",
       "\n",
       "    .dataframe thead th {\n",
       "        text-align: right;\n",
       "    }\n",
       "</style>\n",
       "<table border=\"1\" class=\"dataframe\">\n",
       "  <thead>\n",
       "    <tr style=\"text-align: right;\">\n",
       "      <th></th>\n",
       "      <th>Company_Size</th>\n",
       "      <th>Salary_In_Rupees</th>\n",
       "    </tr>\n",
       "  </thead>\n",
       "  <tbody>\n",
       "    <tr>\n",
       "      <th>0</th>\n",
       "      <td>Large</td>\n",
       "      <td>7.857138e+06</td>\n",
       "    </tr>\n",
       "    <tr>\n",
       "      <th>1</th>\n",
       "      <td>Medium</td>\n",
       "      <td>7.226744e+06</td>\n",
       "    </tr>\n",
       "    <tr>\n",
       "      <th>2</th>\n",
       "      <td>Small</td>\n",
       "      <td>4.070726e+06</td>\n",
       "    </tr>\n",
       "  </tbody>\n",
       "</table>\n",
       "</div>"
      ],
      "text/plain": [
       "  Company_Size  Salary_In_Rupees\n",
       "0        Large      7.857138e+06\n",
       "1       Medium      7.226744e+06\n",
       "2        Small      4.070726e+06"
      ]
     },
     "execution_count": 53,
     "metadata": {},
     "output_type": "execute_result"
    }
   ],
   "source": [
    "# getting the two needed columns and then grouping it by the company_size to get the mean salary\n",
    "f4_1=mid_level[['Company_Size','Salary_In_Rupees']].groupby(['Company_Size'],as_index= False).Salary_In_Rupees.mean()\n",
    "\n",
    "# rearranging the values in ascending order\n",
    "f4_1_p=f4_1.sort_values('Salary_In_Rupees',ascending= False).head(10)\n",
    "\n",
    "# showing the dataset \n",
    "f4_1_p"
   ]
  },
  {
   "cell_type": "code",
   "execution_count": 54,
   "metadata": {},
   "outputs": [
    {
     "data": {
      "image/png": "[encoded data removed]",
      "text/plain": [
       "<Figure size 864x432 with 1 Axes>"
      ]
     },
     "metadata": {
      "needs_background": "light"
     },
     "output_type": "display_data"
    }
   ],
   "source": [
    " # ploting the graph\n",
    "plt.figure(figsize=(12,6))\n",
    "sns.barplot(y='Salary_In_Rupees',x='Company_Size', data=f4_1_p)\n",
    "plt.xticks(rotation=90)\n",
    "plt.title('HIGHEST PAYING Company_Size')\n",
    "plt.show()"
   ]
  },
  {
   "cell_type": "code",
   "execution_count": 103,
   "metadata": {},
   "outputs": [
    {
     "data": {
      "text/html": [
       "<div>\n",
       "<style scoped>\n",
       "    .dataframe tbody tr th:only-of-type {\n",
       "        vertical-align: middle;\n",
       "    }\n",
       "\n",
       "    .dataframe tbody tr th {\n",
       "        vertical-align: top;\n",
       "    }\n",
       "\n",
       "    .dataframe thead th {\n",
       "        text-align: right;\n",
       "    }\n",
       "</style>\n",
       "<table border=\"1\" class=\"dataframe\">\n",
       "  <thead>\n",
       "    <tr style=\"text-align: right;\">\n",
       "      <th></th>\n",
       "      <th>Employment_Status</th>\n",
       "      <th>Salary_In_Rupees</th>\n",
       "    </tr>\n",
       "  </thead>\n",
       "  <tbody>\n",
       "    <tr>\n",
       "      <th>0</th>\n",
       "      <td>Contract</td>\n",
       "      <td>2.148376e+07</td>\n",
       "    </tr>\n",
       "    <tr>\n",
       "      <th>2</th>\n",
       "      <td>Full_Time</td>\n",
       "      <td>7.080472e+06</td>\n",
       "    </tr>\n",
       "    <tr>\n",
       "      <th>1</th>\n",
       "      <td>Freelance</td>\n",
       "      <td>3.501058e+06</td>\n",
       "    </tr>\n",
       "    <tr>\n",
       "      <th>3</th>\n",
       "      <td>Part_Time</td>\n",
       "      <td>3.450849e+06</td>\n",
       "    </tr>\n",
       "  </tbody>\n",
       "</table>\n",
       "</div>"
      ],
      "text/plain": [
       "  Employment_Status  Salary_In_Rupees\n",
       "0          Contract      2.148376e+07\n",
       "2         Full_Time      7.080472e+06\n",
       "1         Freelance      3.501058e+06\n",
       "3         Part_Time      3.450849e+06"
      ]
     },
     "execution_count": 103,
     "metadata": {},
     "output_type": "execute_result"
    }
   ],
   "source": [
    "f4_12=mid_level[['Employment_Status','Salary_In_Rupees']].groupby(['Employment_Status'],as_index= False).Salary_In_Rupees.mean()\n",
    "f4_1_q=f4_12.sort_values('Salary_In_Rupees',ascending= False).head(10)\n",
    "f4_1_q"
   ]
  },
  {
   "cell_type": "code",
   "execution_count": 104,
   "metadata": {},
   "outputs": [
    {
     "data": {
      "image/png": "[encoded data removed]",
      "text/plain": [
       "<Figure size 864x432 with 1 Axes>"
      ]
     },
     "metadata": {
      "needs_background": "light"
     },
     "output_type": "display_data"
    }
   ],
   "source": [
    "# ploting the graph\n",
    "plt.figure(figsize=(12,6))\n",
    "sns.barplot(x='Salary_In_Rupees',y='Employment_Status', data=f4_1_q)\n",
    "plt.xticks(rotation=0)\n",
    "plt.title('HIGHEST PAYING Employment_Status')\n",
    "plt.show()"
   ]
  },
  {
   "cell_type": "markdown",
   "metadata": {},
   "source": [
    "## SENIOR LEVEL"
   ]
  },
  {
   "cell_type": "code",
   "execution_count": 55,
   "metadata": {},
   "outputs": [
    {
     "data": {
      "text/html": [
       "<div>\n",
       "<style scoped>\n",
       "    .dataframe tbody tr th:only-of-type {\n",
       "        vertical-align: middle;\n",
       "    }\n",
       "\n",
       "    .dataframe tbody tr th {\n",
       "        vertical-align: top;\n",
       "    }\n",
       "\n",
       "    .dataframe thead th {\n",
       "        text-align: right;\n",
       "    }\n",
       "</style>\n",
       "<table border=\"1\" class=\"dataframe\">\n",
       "  <thead>\n",
       "    <tr style=\"text-align: right;\">\n",
       "      <th></th>\n",
       "      <th>Working_Year</th>\n",
       "      <th>Designation</th>\n",
       "      <th>Experience</th>\n",
       "      <th>Employment_Status</th>\n",
       "      <th>Salary_In_Rupees</th>\n",
       "      <th>Employee_Location</th>\n",
       "      <th>Company_Location</th>\n",
       "      <th>Company_Size</th>\n",
       "      <th>Remote_Working_Ratio</th>\n",
       "    </tr>\n",
       "  </thead>\n",
       "  <tbody>\n",
       "    <tr>\n",
       "      <th>1</th>\n",
       "      <td>2020.0</td>\n",
       "      <td>Machine Learning Engineer</td>\n",
       "      <td>Senior-Level</td>\n",
       "      <td>Full_Time</td>\n",
       "      <td>20688070.0</td>\n",
       "      <td>Algeria</td>\n",
       "      <td>Algeria</td>\n",
       "      <td>Small</td>\n",
       "      <td>On-site</td>\n",
       "    </tr>\n",
       "    <tr>\n",
       "      <th>2</th>\n",
       "      <td>2020.0</td>\n",
       "      <td>Data Engineer</td>\n",
       "      <td>Senior-Level</td>\n",
       "      <td>Full_Time</td>\n",
       "      <td>8674985.0</td>\n",
       "      <td>Ukraine</td>\n",
       "      <td>Ukraine</td>\n",
       "      <td>Medium</td>\n",
       "      <td>Hybrid</td>\n",
       "    </tr>\n",
       "    <tr>\n",
       "      <th>4</th>\n",
       "      <td>2020.0</td>\n",
       "      <td>Machine Learning Engineer</td>\n",
       "      <td>Senior-Level</td>\n",
       "      <td>Full_Time</td>\n",
       "      <td>11935425.0</td>\n",
       "      <td>Malta</td>\n",
       "      <td>Malta</td>\n",
       "      <td>Large</td>\n",
       "      <td>Hybrid</td>\n",
       "    </tr>\n",
       "    <tr>\n",
       "      <th>6</th>\n",
       "      <td>2020.0</td>\n",
       "      <td>Data Scientist</td>\n",
       "      <td>Senior-Level</td>\n",
       "      <td>Full_Time</td>\n",
       "      <td>15118205.0</td>\n",
       "      <td>Malta</td>\n",
       "      <td>Malta</td>\n",
       "      <td>Small</td>\n",
       "      <td>Remote</td>\n",
       "    </tr>\n",
       "    <tr>\n",
       "      <th>9</th>\n",
       "      <td>2020.0</td>\n",
       "      <td>Data Engineer</td>\n",
       "      <td>Senior-Level</td>\n",
       "      <td>Full_Time</td>\n",
       "      <td>9946188.0</td>\n",
       "      <td>Brazil</td>\n",
       "      <td>Brazil</td>\n",
       "      <td>Small</td>\n",
       "      <td>Hybrid</td>\n",
       "    </tr>\n",
       "    <tr>\n",
       "      <th>...</th>\n",
       "      <td>...</td>\n",
       "      <td>...</td>\n",
       "      <td>...</td>\n",
       "      <td>...</td>\n",
       "      <td>...</td>\n",
       "      <td>...</td>\n",
       "      <td>...</td>\n",
       "      <td>...</td>\n",
       "      <td>...</td>\n",
       "    </tr>\n",
       "    <tr>\n",
       "      <th>597</th>\n",
       "      <td>2022.0</td>\n",
       "      <td>Data Analyst</td>\n",
       "      <td>Senior-Level</td>\n",
       "      <td>Full_Time</td>\n",
       "      <td>13526815.0</td>\n",
       "      <td>Malta</td>\n",
       "      <td>Malta</td>\n",
       "      <td>Medium</td>\n",
       "      <td>Remote</td>\n",
       "    </tr>\n",
       "    <tr>\n",
       "      <th>602</th>\n",
       "      <td>2022.0</td>\n",
       "      <td>Data Engineer</td>\n",
       "      <td>Senior-Level</td>\n",
       "      <td>Full_Time</td>\n",
       "      <td>12253703.0</td>\n",
       "      <td>Malta</td>\n",
       "      <td>Malta</td>\n",
       "      <td>Medium</td>\n",
       "      <td>Remote</td>\n",
       "    </tr>\n",
       "    <tr>\n",
       "      <th>603</th>\n",
       "      <td>2022.0</td>\n",
       "      <td>Data Engineer</td>\n",
       "      <td>Senior-Level</td>\n",
       "      <td>Full_Time</td>\n",
       "      <td>10025757.0</td>\n",
       "      <td>Malta</td>\n",
       "      <td>Malta</td>\n",
       "      <td>Medium</td>\n",
       "      <td>Remote</td>\n",
       "    </tr>\n",
       "    <tr>\n",
       "      <th>604</th>\n",
       "      <td>2022.0</td>\n",
       "      <td>Data Analyst</td>\n",
       "      <td>Senior-Level</td>\n",
       "      <td>Full_Time</td>\n",
       "      <td>10264466.0</td>\n",
       "      <td>Malta</td>\n",
       "      <td>Malta</td>\n",
       "      <td>Medium</td>\n",
       "      <td>On-site</td>\n",
       "    </tr>\n",
       "    <tr>\n",
       "      <th>605</th>\n",
       "      <td>2022.0</td>\n",
       "      <td>Data Analyst</td>\n",
       "      <td>Senior-Level</td>\n",
       "      <td>Full_Time</td>\n",
       "      <td>11935425.0</td>\n",
       "      <td>Malta</td>\n",
       "      <td>Malta</td>\n",
       "      <td>Medium</td>\n",
       "      <td>Remote</td>\n",
       "    </tr>\n",
       "  </tbody>\n",
       "</table>\n",
       "<p>278 rows × 9 columns</p>\n",
       "</div>"
      ],
      "text/plain": [
       "     Working_Year                Designation    Experience Employment_Status  \\\n",
       "1          2020.0  Machine Learning Engineer  Senior-Level         Full_Time   \n",
       "2          2020.0              Data Engineer  Senior-Level         Full_Time   \n",
       "4          2020.0  Machine Learning Engineer  Senior-Level         Full_Time   \n",
       "6          2020.0             Data Scientist  Senior-Level         Full_Time   \n",
       "9          2020.0              Data Engineer  Senior-Level         Full_Time   \n",
       "..            ...                        ...           ...               ...   \n",
       "597        2022.0               Data Analyst  Senior-Level         Full_Time   \n",
       "602        2022.0              Data Engineer  Senior-Level         Full_Time   \n",
       "603        2022.0              Data Engineer  Senior-Level         Full_Time   \n",
       "604        2022.0               Data Analyst  Senior-Level         Full_Time   \n",
       "605        2022.0               Data Analyst  Senior-Level         Full_Time   \n",
       "\n",
       "     Salary_In_Rupees Employee_Location Company_Location Company_Size  \\\n",
       "1          20688070.0           Algeria          Algeria        Small   \n",
       "2           8674985.0           Ukraine          Ukraine       Medium   \n",
       "4          11935425.0             Malta            Malta        Large   \n",
       "6          15118205.0             Malta            Malta        Small   \n",
       "9           9946188.0            Brazil           Brazil        Small   \n",
       "..                ...               ...              ...          ...   \n",
       "597        13526815.0             Malta            Malta       Medium   \n",
       "602        12253703.0             Malta            Malta       Medium   \n",
       "603        10025757.0             Malta            Malta       Medium   \n",
       "604        10264466.0             Malta            Malta       Medium   \n",
       "605        11935425.0             Malta            Malta       Medium   \n",
       "\n",
       "    Remote_Working_Ratio  \n",
       "1                On-site  \n",
       "2                 Hybrid  \n",
       "4                 Hybrid  \n",
       "6                 Remote  \n",
       "9                 Hybrid  \n",
       "..                   ...  \n",
       "597               Remote  \n",
       "602               Remote  \n",
       "603               Remote  \n",
       "604              On-site  \n",
       "605               Remote  \n",
       "\n",
       "[278 rows x 9 columns]"
      ]
     },
     "execution_count": 55,
     "metadata": {},
     "output_type": "execute_result"
    }
   ],
   "source": [
    "# trimming the master data set down to where the experience level is senior\n",
    "snr_level=data.where(data['Experience']=='Senior-Level')\n",
    "\n",
    "# dropping al null values left in the snr_level dataset\n",
    "snr_level.dropna(inplace=True)\n",
    "\n",
    "# showing the data_set\n",
    "snr_level"
   ]
  },
  {
   "cell_type": "code",
   "execution_count": 57,
   "metadata": {},
   "outputs": [
    {
     "name": "stdout",
     "output_type": "stream",
     "text": [
      "<class 'pandas.core.frame.DataFrame'>\n",
      "Int64Index: 278 entries, 1 to 605\n",
      "Data columns (total 9 columns):\n",
      " #   Column                Non-Null Count  Dtype  \n",
      "---  ------                --------------  -----  \n",
      " 0   Working_Year          278 non-null    float64\n",
      " 1   Designation           278 non-null    object \n",
      " 2   Experience            278 non-null    object \n",
      " 3   Employment_Status     278 non-null    object \n",
      " 4   Salary_In_Rupees      278 non-null    float64\n",
      " 5   Employee_Location     278 non-null    object \n",
      " 6   Company_Location      278 non-null    object \n",
      " 7   Company_Size          278 non-null    object \n",
      " 8   Remote_Working_Ratio  278 non-null    object \n",
      "dtypes: float64(2), object(7)\n",
      "memory usage: 21.7+ KB\n"
     ]
    },
    {
     "data": {
      "text/plain": [
       "Data Scientist               89\n",
       "Data Engineer                83\n",
       "Data Analyst                 65\n",
       "Machine Learning Engineer    28\n",
       "Data Architect                9\n",
       "Computer Vision Engineer      3\n",
       "AI Scientist                  1\n",
       "Name: Designation, dtype: int64"
      ]
     },
     "execution_count": 57,
     "metadata": {},
     "output_type": "execute_result"
    }
   ],
   "source": [
    "snr_level.info()\n",
    "snr_level['Designation'].value_counts()"
   ]
  },
  {
   "cell_type": "markdown",
   "metadata": {},
   "source": [
    "## Q1: Which Designation earns the most salary\n"
   ]
  },
  {
   "cell_type": "code",
   "execution_count": 58,
   "metadata": {},
   "outputs": [
    {
     "data": {
      "text/html": [
       "<div>\n",
       "<style scoped>\n",
       "    .dataframe tbody tr th:only-of-type {\n",
       "        vertical-align: middle;\n",
       "    }\n",
       "\n",
       "    .dataframe tbody tr th {\n",
       "        vertical-align: top;\n",
       "    }\n",
       "\n",
       "    .dataframe thead th {\n",
       "        text-align: right;\n",
       "    }\n",
       "</style>\n",
       "<table border=\"1\" class=\"dataframe\">\n",
       "  <thead>\n",
       "    <tr style=\"text-align: right;\">\n",
       "      <th></th>\n",
       "      <th>Designation</th>\n",
       "      <th>Salary_In_Rupees</th>\n",
       "    </tr>\n",
       "  </thead>\n",
       "  <tbody>\n",
       "    <tr>\n",
       "      <th>3</th>\n",
       "      <td>Data Architect</td>\n",
       "      <td>1.375948e+07</td>\n",
       "    </tr>\n",
       "    <tr>\n",
       "      <th>5</th>\n",
       "      <td>Data Scientist</td>\n",
       "      <td>1.213978e+07</td>\n",
       "    </tr>\n",
       "    <tr>\n",
       "      <th>6</th>\n",
       "      <td>Machine Learning Engineer</td>\n",
       "      <td>1.126291e+07</td>\n",
       "    </tr>\n",
       "    <tr>\n",
       "      <th>4</th>\n",
       "      <td>Data Engineer</td>\n",
       "      <td>1.108449e+07</td>\n",
       "    </tr>\n",
       "    <tr>\n",
       "      <th>2</th>\n",
       "      <td>Data Analyst</td>\n",
       "      <td>9.475697e+06</td>\n",
       "    </tr>\n",
       "  </tbody>\n",
       "</table>\n",
       "</div>"
      ],
      "text/plain": [
       "                 Designation  Salary_In_Rupees\n",
       "3             Data Architect      1.375948e+07\n",
       "5             Data Scientist      1.213978e+07\n",
       "6  Machine Learning Engineer      1.126291e+07\n",
       "4              Data Engineer      1.108449e+07\n",
       "2               Data Analyst      9.475697e+06"
      ]
     },
     "execution_count": 58,
     "metadata": {},
     "output_type": "execute_result"
    }
   ],
   "source": [
    "\n",
    "# Q1\n",
    " # getting the designation that earns most salary\n",
    "f =  snr_level.groupby('Designation' ,as_index= False).Salary_In_Rupees.mean()\n",
    "f1=f.sort_values('Salary_In_Rupees',ascending= False).head(5)\n",
    "f1"
   ]
  },
  {
   "cell_type": "code",
   "execution_count": 60,
   "metadata": {},
   "outputs": [
    {
     "data": {
      "image/png": "[encoded data removed]",
      "text/plain": [
       "<Figure size 864x432 with 1 Axes>"
      ]
     },
     "metadata": {
      "needs_background": "light"
     },
     "output_type": "display_data"
    }
   ],
   "source": [
    "plt.figure(figsize=(12,6))\n",
    "sns.barplot(x='Salary_In_Rupees',y='Designation',data=f1)\n",
    "plt.xticks(rotation=90)\n",
    "plt.title('HIGHEST PAID DESIGNATION')\n",
    "plt.show()"
   ]
  },
  {
   "cell_type": "markdown",
   "metadata": {},
   "source": [
    "## Q2: Highest employing country, designation and employee location"
   ]
  },
  {
   "cell_type": "code",
   "execution_count": 79,
   "metadata": {},
   "outputs": [
    {
     "data": {
      "image/png": "[encoded data removed]",
      "text/plain": [
       "<Figure size 864x432 with 1 Axes>"
      ]
     },
     "metadata": {
      "needs_background": "light"
     },
     "output_type": "display_data"
    }
   ],
   "source": [
    "# getting the highest employing coutry\n",
    "c=snr_level['Company_Location']\n",
    "plt.figure(figsize=(12,6))\n",
    "sns.histplot(data=c,color='red')\n",
    "plt.xticks(rotation=90)\n",
    "plt.title('HIGHEST EMPLOYING COUNTRIES')\n",
    "plt.show()\n"
   ]
  },
  {
   "cell_type": "code",
   "execution_count": 77,
   "metadata": {},
   "outputs": [
    {
     "data": {
      "image/png": "[encoded data removed]",
      "text/plain": [
       "<Figure size 864x432 with 1 Axes>"
      ]
     },
     "metadata": {
      "needs_background": "light"
     },
     "output_type": "display_data"
    }
   ],
   "source": [
    "# ploting for the designation with high employment demands\n",
    "d=snr_level['Designation']\n",
    "plt.figure(figsize=(12,6))\n",
    "sns.histplot(data=d,color='purple')  \n",
    "plt.xticks(rotation=90)\n",
    "plt.title('HIGHEST EMPLOYED DESIGNATION')\n",
    "plt.show()"
   ]
  },
  {
   "cell_type": "code",
   "execution_count": 80,
   "metadata": {},
   "outputs": [
    {
     "data": {
      "image/png": "[encoded data removed]",
      "text/plain": [
       "<Figure size 864x432 with 1 Axes>"
      ]
     },
     "metadata": {
      "needs_background": "light"
     },
     "output_type": "display_data"
    }
   ],
   "source": [
    "e=snr_level['Employee_Location']\n",
    "plt.figure(figsize=(12,6))\n",
    "sns.histplot(data=e,color='orange')\n",
    "plt.xticks(rotation=90)\n",
    "plt.title('HIGHEST EMPLOYEE LOCATION')\n",
    "plt.show()"
   ]
  },
  {
   "cell_type": "code",
   "execution_count": 89,
   "metadata": {},
   "outputs": [
    {
     "data": {
      "text/html": [
       "<div>\n",
       "<style scoped>\n",
       "    .dataframe tbody tr th:only-of-type {\n",
       "        vertical-align: middle;\n",
       "    }\n",
       "\n",
       "    .dataframe tbody tr th {\n",
       "        vertical-align: top;\n",
       "    }\n",
       "\n",
       "    .dataframe thead th {\n",
       "        text-align: right;\n",
       "    }\n",
       "</style>\n",
       "<table border=\"1\" class=\"dataframe\">\n",
       "  <thead>\n",
       "    <tr style=\"text-align: right;\">\n",
       "      <th></th>\n",
       "      <th>Working_Year</th>\n",
       "      <th>Designation</th>\n",
       "      <th>Experience</th>\n",
       "      <th>Employment_Status</th>\n",
       "      <th>Salary_In_Rupees</th>\n",
       "      <th>Employee_Location</th>\n",
       "      <th>Company_Location</th>\n",
       "      <th>Company_Size</th>\n",
       "      <th>Remote_Working_Ratio</th>\n",
       "    </tr>\n",
       "  </thead>\n",
       "  <tbody>\n",
       "    <tr>\n",
       "      <th>1</th>\n",
       "      <td>2020.0</td>\n",
       "      <td>Machine Learning Engineer</td>\n",
       "      <td>Senior-Level</td>\n",
       "      <td>Full_Time</td>\n",
       "      <td>20688070.0</td>\n",
       "      <td>Algeria</td>\n",
       "      <td>Algeria</td>\n",
       "      <td>Small</td>\n",
       "      <td>On-site</td>\n",
       "    </tr>\n",
       "    <tr>\n",
       "      <th>2</th>\n",
       "      <td>2020.0</td>\n",
       "      <td>Data Engineer</td>\n",
       "      <td>Senior-Level</td>\n",
       "      <td>Full_Time</td>\n",
       "      <td>8674985.0</td>\n",
       "      <td>Ukraine</td>\n",
       "      <td>Ukraine</td>\n",
       "      <td>Medium</td>\n",
       "      <td>Hybrid</td>\n",
       "    </tr>\n",
       "    <tr>\n",
       "      <th>4</th>\n",
       "      <td>2020.0</td>\n",
       "      <td>Machine Learning Engineer</td>\n",
       "      <td>Senior-Level</td>\n",
       "      <td>Full_Time</td>\n",
       "      <td>11935425.0</td>\n",
       "      <td>Malta</td>\n",
       "      <td>Malta</td>\n",
       "      <td>Large</td>\n",
       "      <td>Hybrid</td>\n",
       "    </tr>\n",
       "    <tr>\n",
       "      <th>6</th>\n",
       "      <td>2020.0</td>\n",
       "      <td>Data Scientist</td>\n",
       "      <td>Senior-Level</td>\n",
       "      <td>Full_Time</td>\n",
       "      <td>15118205.0</td>\n",
       "      <td>Malta</td>\n",
       "      <td>Malta</td>\n",
       "      <td>Small</td>\n",
       "      <td>Remote</td>\n",
       "    </tr>\n",
       "    <tr>\n",
       "      <th>9</th>\n",
       "      <td>2020.0</td>\n",
       "      <td>Data Engineer</td>\n",
       "      <td>Senior-Level</td>\n",
       "      <td>Full_Time</td>\n",
       "      <td>9946188.0</td>\n",
       "      <td>Brazil</td>\n",
       "      <td>Brazil</td>\n",
       "      <td>Small</td>\n",
       "      <td>Hybrid</td>\n",
       "    </tr>\n",
       "    <tr>\n",
       "      <th>...</th>\n",
       "      <td>...</td>\n",
       "      <td>...</td>\n",
       "      <td>...</td>\n",
       "      <td>...</td>\n",
       "      <td>...</td>\n",
       "      <td>...</td>\n",
       "      <td>...</td>\n",
       "      <td>...</td>\n",
       "      <td>...</td>\n",
       "    </tr>\n",
       "    <tr>\n",
       "      <th>597</th>\n",
       "      <td>2022.0</td>\n",
       "      <td>Data Analyst</td>\n",
       "      <td>Senior-Level</td>\n",
       "      <td>Full_Time</td>\n",
       "      <td>13526815.0</td>\n",
       "      <td>Malta</td>\n",
       "      <td>Malta</td>\n",
       "      <td>Medium</td>\n",
       "      <td>Remote</td>\n",
       "    </tr>\n",
       "    <tr>\n",
       "      <th>602</th>\n",
       "      <td>2022.0</td>\n",
       "      <td>Data Engineer</td>\n",
       "      <td>Senior-Level</td>\n",
       "      <td>Full_Time</td>\n",
       "      <td>12253703.0</td>\n",
       "      <td>Malta</td>\n",
       "      <td>Malta</td>\n",
       "      <td>Medium</td>\n",
       "      <td>Remote</td>\n",
       "    </tr>\n",
       "    <tr>\n",
       "      <th>603</th>\n",
       "      <td>2022.0</td>\n",
       "      <td>Data Engineer</td>\n",
       "      <td>Senior-Level</td>\n",
       "      <td>Full_Time</td>\n",
       "      <td>10025757.0</td>\n",
       "      <td>Malta</td>\n",
       "      <td>Malta</td>\n",
       "      <td>Medium</td>\n",
       "      <td>Remote</td>\n",
       "    </tr>\n",
       "    <tr>\n",
       "      <th>604</th>\n",
       "      <td>2022.0</td>\n",
       "      <td>Data Analyst</td>\n",
       "      <td>Senior-Level</td>\n",
       "      <td>Full_Time</td>\n",
       "      <td>10264466.0</td>\n",
       "      <td>Malta</td>\n",
       "      <td>Malta</td>\n",
       "      <td>Medium</td>\n",
       "      <td>On-site</td>\n",
       "    </tr>\n",
       "    <tr>\n",
       "      <th>605</th>\n",
       "      <td>2022.0</td>\n",
       "      <td>Data Analyst</td>\n",
       "      <td>Senior-Level</td>\n",
       "      <td>Full_Time</td>\n",
       "      <td>11935425.0</td>\n",
       "      <td>Malta</td>\n",
       "      <td>Malta</td>\n",
       "      <td>Medium</td>\n",
       "      <td>Remote</td>\n",
       "    </tr>\n",
       "  </tbody>\n",
       "</table>\n",
       "<p>278 rows × 9 columns</p>\n",
       "</div>"
      ],
      "text/plain": [
       "     Working_Year                Designation    Experience Employment_Status  \\\n",
       "1          2020.0  Machine Learning Engineer  Senior-Level         Full_Time   \n",
       "2          2020.0              Data Engineer  Senior-Level         Full_Time   \n",
       "4          2020.0  Machine Learning Engineer  Senior-Level         Full_Time   \n",
       "6          2020.0             Data Scientist  Senior-Level         Full_Time   \n",
       "9          2020.0              Data Engineer  Senior-Level         Full_Time   \n",
       "..            ...                        ...           ...               ...   \n",
       "597        2022.0               Data Analyst  Senior-Level         Full_Time   \n",
       "602        2022.0              Data Engineer  Senior-Level         Full_Time   \n",
       "603        2022.0              Data Engineer  Senior-Level         Full_Time   \n",
       "604        2022.0               Data Analyst  Senior-Level         Full_Time   \n",
       "605        2022.0               Data Analyst  Senior-Level         Full_Time   \n",
       "\n",
       "     Salary_In_Rupees Employee_Location Company_Location Company_Size  \\\n",
       "1          20688070.0           Algeria          Algeria        Small   \n",
       "2           8674985.0           Ukraine          Ukraine       Medium   \n",
       "4          11935425.0             Malta            Malta        Large   \n",
       "6          15118205.0             Malta            Malta        Small   \n",
       "9           9946188.0            Brazil           Brazil        Small   \n",
       "..                ...               ...              ...          ...   \n",
       "597        13526815.0             Malta            Malta       Medium   \n",
       "602        12253703.0             Malta            Malta       Medium   \n",
       "603        10025757.0             Malta            Malta       Medium   \n",
       "604        10264466.0             Malta            Malta       Medium   \n",
       "605        11935425.0             Malta            Malta       Medium   \n",
       "\n",
       "    Remote_Working_Ratio  \n",
       "1                On-site  \n",
       "2                 Hybrid  \n",
       "4                 Hybrid  \n",
       "6                 Remote  \n",
       "9                 Hybrid  \n",
       "..                   ...  \n",
       "597               Remote  \n",
       "602               Remote  \n",
       "603               Remote  \n",
       "604              On-site  \n",
       "605               Remote  \n",
       "\n",
       "[278 rows x 9 columns]"
      ]
     },
     "execution_count": 89,
     "metadata": {},
     "output_type": "execute_result"
    }
   ],
   "source": [
    "snr_level"
   ]
  },
  {
   "cell_type": "markdown",
   "metadata": {},
   "source": [
    "## Q3: What is the effect of remote work ratio on pay\n"
   ]
  },
  {
   "cell_type": "code",
   "execution_count": 81,
   "metadata": {},
   "outputs": [
    {
     "data": {
      "text/html": [
       "<div>\n",
       "<style scoped>\n",
       "    .dataframe tbody tr th:only-of-type {\n",
       "        vertical-align: middle;\n",
       "    }\n",
       "\n",
       "    .dataframe tbody tr th {\n",
       "        vertical-align: top;\n",
       "    }\n",
       "\n",
       "    .dataframe thead th {\n",
       "        text-align: right;\n",
       "    }\n",
       "</style>\n",
       "<table border=\"1\" class=\"dataframe\">\n",
       "  <thead>\n",
       "    <tr style=\"text-align: right;\">\n",
       "      <th></th>\n",
       "      <th>Remote_Working_Ratio</th>\n",
       "      <th>Salary_In_Rupees</th>\n",
       "    </tr>\n",
       "  </thead>\n",
       "  <tbody>\n",
       "    <tr>\n",
       "      <th>2</th>\n",
       "      <td>Remote</td>\n",
       "      <td>1.145632e+07</td>\n",
       "    </tr>\n",
       "    <tr>\n",
       "      <th>1</th>\n",
       "      <td>On-site</td>\n",
       "      <td>1.123344e+07</td>\n",
       "    </tr>\n",
       "    <tr>\n",
       "      <th>0</th>\n",
       "      <td>Hybrid</td>\n",
       "      <td>7.579066e+06</td>\n",
       "    </tr>\n",
       "  </tbody>\n",
       "</table>\n",
       "</div>"
      ],
      "text/plain": [
       "  Remote_Working_Ratio  Salary_In_Rupees\n",
       "2               Remote      1.145632e+07\n",
       "1              On-site      1.123344e+07\n",
       "0               Hybrid      7.579066e+06"
      ]
     },
     "execution_count": 81,
     "metadata": {},
     "output_type": "execute_result"
    }
   ],
   "source": [
    "f9=snr_level[['Remote_Working_Ratio','Salary_In_Rupees']].groupby(['Remote_Working_Ratio'],as_index= False).Salary_In_Rupees.mean()\n",
    "f3_9_p=f9.sort_values('Salary_In_Rupees',ascending= False)\n",
    "f3_9_p"
   ]
  },
  {
   "cell_type": "code",
   "execution_count": 65,
   "metadata": {},
   "outputs": [
    {
     "data": {
      "image/png": "[encoded data removed]",
      "text/plain": [
       "<Figure size 864x432 with 1 Axes>"
      ]
     },
     "metadata": {
      "needs_background": "light"
     },
     "output_type": "display_data"
    }
   ],
   "source": [
    "plt.figure(figsize=(12,6))\n",
    "sns.barplot(y='Salary_In_Rupees',x='Remote_Working_Ratio', data=f3_9_p)\n",
    "plt.xticks(rotation=90)\n",
    "plt.title('HIGHEST PAYING WORK MODEL')\n",
    "plt.show()"
   ]
  },
  {
   "cell_type": "markdown",
   "metadata": {},
   "source": [
    "## Q4: What company size pays the most\n"
   ]
  },
  {
   "cell_type": "code",
   "execution_count": 82,
   "metadata": {},
   "outputs": [
    {
     "data": {
      "text/html": [
       "<div>\n",
       "<style scoped>\n",
       "    .dataframe tbody tr th:only-of-type {\n",
       "        vertical-align: middle;\n",
       "    }\n",
       "\n",
       "    .dataframe tbody tr th {\n",
       "        vertical-align: top;\n",
       "    }\n",
       "\n",
       "    .dataframe thead th {\n",
       "        text-align: right;\n",
       "    }\n",
       "</style>\n",
       "<table border=\"1\" class=\"dataframe\">\n",
       "  <thead>\n",
       "    <tr style=\"text-align: right;\">\n",
       "      <th></th>\n",
       "      <th>Company_Size</th>\n",
       "      <th>Salary_In_Rupees</th>\n",
       "    </tr>\n",
       "  </thead>\n",
       "  <tbody>\n",
       "    <tr>\n",
       "      <th>0</th>\n",
       "      <td>Large</td>\n",
       "      <td>1.179095e+07</td>\n",
       "    </tr>\n",
       "    <tr>\n",
       "      <th>1</th>\n",
       "      <td>Medium</td>\n",
       "      <td>1.096592e+07</td>\n",
       "    </tr>\n",
       "    <tr>\n",
       "      <th>2</th>\n",
       "      <td>Small</td>\n",
       "      <td>9.232189e+06</td>\n",
       "    </tr>\n",
       "  </tbody>\n",
       "</table>\n",
       "</div>"
      ],
      "text/plain": [
       "  Company_Size  Salary_In_Rupees\n",
       "0        Large      1.179095e+07\n",
       "1       Medium      1.096592e+07\n",
       "2        Small      9.232189e+06"
      ]
     },
     "execution_count": 82,
     "metadata": {},
     "output_type": "execute_result"
    }
   ],
   "source": [
    "f4_1=snr_level[['Company_Size','Salary_In_Rupees']].groupby(['Company_Size'],as_index= False).Salary_In_Rupees.mean()\n",
    "f4_1_p=f4_1.sort_values('Salary_In_Rupees',ascending= False).head(10)\n",
    "f4_1_p"
   ]
  },
  {
   "cell_type": "code",
   "execution_count": 67,
   "metadata": {},
   "outputs": [
    {
     "data": {
      "image/png": "[encoded data removed]",
      "text/plain": [
       "<Figure size 864x432 with 1 Axes>"
      ]
     },
     "metadata": {
      "needs_background": "light"
     },
     "output_type": "display_data"
    }
   ],
   "source": [
    "plt.figure(figsize=(12,6))\n",
    "sns.barplot(y='Salary_In_Rupees',x='Company_Size', data=f4_1_p)\n",
    "plt.xticks(rotation=90)\n",
    "plt.title('HIGHEST PAYING COMPANY SIZE')\n",
    "plt.show()"
   ]
  },
  {
   "cell_type": "code",
   "execution_count": 106,
   "metadata": {},
   "outputs": [
    {
     "data": {
      "text/html": [
       "<div>\n",
       "<style scoped>\n",
       "    .dataframe tbody tr th:only-of-type {\n",
       "        vertical-align: middle;\n",
       "    }\n",
       "\n",
       "    .dataframe tbody tr th {\n",
       "        vertical-align: top;\n",
       "    }\n",
       "\n",
       "    .dataframe thead th {\n",
       "        text-align: right;\n",
       "    }\n",
       "</style>\n",
       "<table border=\"1\" class=\"dataframe\">\n",
       "  <thead>\n",
       "    <tr style=\"text-align: right;\">\n",
       "      <th></th>\n",
       "      <th>Employment_Status</th>\n",
       "      <th>Salary_In_Rupees</th>\n",
       "    </tr>\n",
       "  </thead>\n",
       "  <tbody>\n",
       "    <tr>\n",
       "      <th>2</th>\n",
       "      <td>Full_Time</td>\n",
       "      <td>1.106886e+07</td>\n",
       "    </tr>\n",
       "    <tr>\n",
       "      <th>0</th>\n",
       "      <td>Contract</td>\n",
       "      <td>8.354798e+06</td>\n",
       "    </tr>\n",
       "    <tr>\n",
       "      <th>1</th>\n",
       "      <td>Freelance</td>\n",
       "      <td>4.774170e+06</td>\n",
       "    </tr>\n",
       "  </tbody>\n",
       "</table>\n",
       "</div>"
      ],
      "text/plain": [
       "  Employment_Status  Salary_In_Rupees\n",
       "2         Full_Time      1.106886e+07\n",
       "0          Contract      8.354798e+06\n",
       "1         Freelance      4.774170e+06"
      ]
     },
     "execution_count": 106,
     "metadata": {},
     "output_type": "execute_result"
    }
   ],
   "source": [
    "f4_12=snr_level[['Employment_Status','Salary_In_Rupees']].groupby(['Employment_Status'],as_index= False).Salary_In_Rupees.mean()\n",
    "f4_1_q=f4_12.sort_values('Salary_In_Rupees',ascending= False).head(10)\n",
    "f4_1_q"
   ]
  },
  {
   "cell_type": "code",
   "execution_count": 107,
   "metadata": {},
   "outputs": [
    {
     "data": {
      "image/png": "[encoded data removed]",
      "text/plain": [
       "<Figure size 864x432 with 1 Axes>"
      ]
     },
     "metadata": {
      "needs_background": "light"
     },
     "output_type": "display_data"
    }
   ],
   "source": [
    "plt.figure(figsize=(12,6))\n",
    "sns.barplot(x='Salary_In_Rupees',y='Employment_Status', data=f4_1_q)\n",
    "plt.xticks(rotation=0)\n",
    "plt.title('HIGHEST PAYING Employment_Status')\n",
    "plt.show()"
   ]
  },
  {
   "cell_type": "markdown",
   "metadata": {},
   "source": [
    "## Conclusion"
   ]
  },
  {
   "cell_type": "markdown",
   "metadata": {},
   "source": [
    "* Machine Learning Engineer,Data Architect,Data Scientist,Data Analyst,Data Engineer are the top highest paid designations across the levels\n",
    "\n",
    "* United states is the country with highest employement opportunities\n",
    "\n",
    "* The remote working ratio affects the pay across different levels,although the diffrence isn't sharp, employees are better paid when they work remotely \n",
    "\n",
    "* Consistently across all levels, large size companies pays alot more than other two companies\n",
    "\n",
    "* Those who live in Malta and In are informed about data jobs, while many other countries has no significant contribution to the emploment force.\n",
    "\n",
    "* Even though designations like Machine Learning Engineer and Data Architect are highly paid, employement opportunities are very limited,hence there will be competition \n",
    "\n",
    "* Data Scientist role has a consistently high enployment ratio across the three levels."
   ]
  },
  {
   "cell_type": "markdown",
   "metadata": {},
   "source": [
    "## Recommendation\n",
    "\n",
    "* The company should invest more of its in training Data analysts,Data Engineers and Data Scientist. This is because these designatons are not just relatively well paid, they also have high employement opportunities\n",
    "\n",
    "* Knowing fully well that United States has data jobs more than any country across different designation, the company should recommend that its protege apply for job in the country\n",
    "\n",
    "* Those who living in Malta are more aware of job opportunities in the data profession unlike other countries with very low awareness and skills, the company should make use of this opportunity to hunt new data talents from countries with low input into the labour force. Starting in this countries will require them to first educate on the available opportunities , this will further give them the chance to train many talents with litle or no competition\n",
    "\n",
    "* The company can also seek partnership with large_size  companies for employment for their protege and encourage the proteges to look forward to those kinds of company\n",
    "\n",
    "* Since working remotely earns workers most money, the company can adopt an online teaching model for its students, this will enable them to reach large audience faster across different countries and it will also help the students to develop ability to work effectively remotely too."
   ]
  }
 ],
 "metadata": {
  "kernelspec": {
   "display_name": "Python 3",
   "language": "python",
   "name": "python3"
  },
  "language_info": {
   "codemirror_mode": {
    "name": "ipython",
    "version": 3
   },
   "file_extension": ".py",
   "mimetype": "text/x-python",
   "name": "python",
   "nbconvert_exporter": "python",
   "pygments_lexer": "ipython3",
   "version": "3.8.5"
  }
 },
 "nbformat": 4,
 "nbformat_minor": 4
}
